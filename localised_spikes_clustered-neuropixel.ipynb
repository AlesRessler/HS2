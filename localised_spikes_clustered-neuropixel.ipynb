{
 "cells": [
  {
   "cell_type": "code",
   "execution_count": null,
   "metadata": {},
   "outputs": [],
   "source": [
    "%load_ext autoreload\n",
    "%autoreload 2\n",
    "import matplotlib.pyplot as plt\n",
    "from hs2 import herdingspikes\n",
    "from probe import NeuroPixel\n",
    "from sklearn.cluster import DBSCAN\n",
    "\n",
    "%matplotlib inline"
   ]
  },
  {
   "cell_type": "code",
   "execution_count": null,
   "metadata": {
    "scrolled": true
   },
   "outputs": [],
   "source": [
    "# detectData(data, neighbours, spikefilename, shapefilename, channels, sfd, thres, maa = None, maxsl = None, minsl = None, ahpthr = None, tpre = 1, tpost = 2)\n",
    "# MinAvgAmp minimal avg. amplitude of peak (in units of Qd)\n",
    "# MaxSl dead time in frames after peak, used for further testing\n",
    "# MinSl length considered for determining avg. spike amplitude\n",
    "# AHPthr signal should go below that threshold within MaxSl-Slmin frames\n",
    "\n",
    "user = \"Cole\"\n",
    "\n",
    "if user == \"Hennig\":\n",
    "    data_path = '/disk/scratch/mhennig/neuropixel/data/rawDataSample.bin'\n",
    "elif user == \"Martino\":\n",
    "    data_path = \"data/rawDataSample.bin\"\n",
    "else:\n",
    "    data_path = '/home/cole/neuropixeldata/rawDataSample.bin'\n",
    "\n",
    "to_localize = True\n",
    "cutout_start = 10\n",
    "cutout_end = 30\n",
    "threshold = 7\n",
    "# masking_channels = [36, 75, 112,151,188,227,264,303,340,379,384]#Can put a list of channel numbers you want masked\n",
    "masking_channels = [384, 344, 112, 227, 151, 264,  75, 188,  36, 303]#Can put a list of channel numbers you want masked\n",
    "file_name = 'ProcessedSpikes'\n"
   ]
  },
  {
   "cell_type": "code",
   "execution_count": null,
   "metadata": {},
   "outputs": [],
   "source": [
    "Probe = NeuroPixel(data_file_path=data_path, fps=30000, masked_channels = masking_channels)\n",
    "\n",
    "H = herdingspikes(Probe)"
   ]
  },
  {
   "cell_type": "code",
   "execution_count": null,
   "metadata": {},
   "outputs": [],
   "source": [
    "H.DetectFromRaw(to_localize, cutout_start, cutout_end, threshold,\n",
    "                maa=0, maxsl=12, minsl=3, ahpthr=0, verbose=True)#, file_path=file_name)\n",
    "\n",
    "# # OR\n",
    "\n",
    "#H.LoadDetected(file_name, cutout_length=cutout_end-cutout_start)"
   ]
  },
  {
   "cell_type": "code",
   "execution_count": null,
   "metadata": {
    "scrolled": false
   },
   "outputs": [],
   "source": [
    "plt.figure(figsize=(8,8))\n",
    "ax=plt.subplot(111)\n",
    "H.PlotTracesChannels(35, ax=ax, window_size=100, cutout_start=10)\n",
    "# plt.axis('equal')"
   ]
  },
  {
   "cell_type": "code",
   "execution_count": null,
   "metadata": {},
   "outputs": [],
   "source": [
    "spikes = []\n",
    "with open(\"Detected Spikes\") as dp:\n",
    "    for i, line in enumerate(dp):\n",
    "        line = line.rstrip('\\n')\n",
    "        line_tokens = line.split(' ')\n",
    "        int_tokens = []\n",
    "        for token in line_tokens:\n",
    "            int_token = int(token)\n",
    "            int_tokens.append(int_token)\n",
    "        spikes.append((int_tokens))\n",
    "        if i > 1000:\n",
    "            break\n",
    "# print(spikes)"
   ]
  },
  {
   "cell_type": "code",
   "execution_count": null,
   "metadata": {},
   "outputs": [],
   "source": [
    "import numpy as np\n",
    "def findAverageFreq(spikes):\n",
    "    start_frame = spikes[0][1]\n",
    "    frame_average_amps = [[0,0], [0,0], [0,0], [0,0], [0,0], [0,0]]\n",
    "    for spike in spikes:\n",
    "        frame_difference = spike[1] - start_frame\n",
    "        frame_average_amps[frame_difference][0] += spike[2]\n",
    "        frame_average_amps[frame_difference][1] += 1\n",
    "    return frame_average_amps\n",
    "        "
   ]
  },
  {
   "cell_type": "code",
   "execution_count": null,
   "metadata": {},
   "outputs": [],
   "source": [
    "def findTotalAverageAmp(average_amps_list):\n",
    "    total_amps = np.zeros(6)\n",
    "    total_frequencies = np.zeros(6)\n",
    "    for average_amps in average_amps_list:\n",
    "        average_amp_array = np.zeros(6)\n",
    "        for i, average_amp in enumerate(average_amps):\n",
    "            if average_amp[1] != 0:\n",
    "                average_amp_array[i] = average_amp[0]\n",
    "                total_frequencies[i] += average_amp[1]\n",
    "            else:\n",
    "                average_amp_array[i] = 0\n",
    "        total_amps = np.add(total_amps, average_amp_array)\n",
    "    total_average_amp = np.zeros(6)    \n",
    "    for i in range(6):\n",
    "        if total_frequencies[i] == 0:\n",
    "            total_average_amp[i] = 0\n",
    "        else:\n",
    "            total_average_amp[i] = total_amps[i]/total_frequencies[i]\n",
    "            \n",
    "    return total_average_amp"
   ]
  },
  {
   "cell_type": "code",
   "execution_count": null,
   "metadata": {},
   "outputs": [],
   "source": [
    "def findTotalAverageDecay(spikes_list):\n",
    "    frame_average_amps = []\n",
    "    for spikes in spikes_list:\n",
    "        frame_average_amps.append(findAverageFreq(spikes))\n",
    "    return findTotalAverageAmp(frame_average_amps)"
   ]
  },
  {
   "cell_type": "code",
   "execution_count": null,
   "metadata": {},
   "outputs": [],
   "source": [
    "alphabet = []\n",
    "a = [spikes[4], spikes[5], spikes[6], spikes[8]]\n",
    "alphabet.append(a)\n",
    "b = [spikes[10], spikes[11], spikes[12], spikes[13], spikes[14], spikes[15]]\n",
    "alphabet.append(b)\n",
    "c = [spikes[16], spikes[17], spikes[18], spikes[19], spikes[20]]\n",
    "alphabet.append(c)\n",
    "d = [spikes[21], spikes[22]]\n",
    "alphabet.append(d)\n",
    "e = [spikes[33], spikes[34], spikes[35], spikes[36]]\n",
    "alphabet.append(e)\n",
    "f = [spikes[37], spikes[38], spikes[39], spikes[40], spikes[41]]\n",
    "alphabet.append(f)\n",
    "g = [spikes[43], spikes[44], spikes[45], spikes[46]]\n",
    "alphabet.append(g)\n",
    "h = [spikes[47], spikes[48], spikes[49], spikes[50]]\n",
    "alphabet.append(h)\n",
    "i = [spikes[51], spikes[52]]\n",
    "alphabet.append(i)\n",
    "j = [spikes[53], spikes[54], spikes[55]]\n",
    "alphabet.append(j)\n",
    "k = [spikes[56], spikes[57], spikes[58], spikes[59]]\n",
    "alphabet.append(k)\n",
    "l = [spikes[61], spikes[62], spikes[63]]\n",
    "alphabet.append(l)\n",
    "m = [spikes[64], spikes[65], spikes[66], spikes[67], spikes[68]]\n",
    "alphabet.append(m)\n",
    "n = [spikes[69], spikes[70], spikes[71]]\n",
    "alphabet.append(n)\n",
    "o = [spikes[72], spikes[73]]\n",
    "alphabet.append(o)\n",
    "p = [spikes[76], spikes[77]]\n",
    "alphabet.append(p)\n",
    "q = [spikes[78], spikes[79], spikes[80], spikes[81], spikes[83]]\n",
    "alphabet.append(q)\n",
    "r = [spikes[86], spikes[87], spikes[88], spikes[89]]\n",
    "alphabet.append(r)\n",
    "s = [spikes[104], spikes[105], spikes[106], spikes[107]]\n",
    "alphabet.append(s)\n",
    "t = [spikes[115], spikes[116], spikes[117]]\n",
    "alphabet.append(t)\n",
    "u = [spikes[118], spikes[119], spikes[121], spikes[123]]\n",
    "alphabet.append(u)\n",
    "v = [spikes[120], spikes[122], spikes[124], spikes[125]]\n",
    "alphabet.append(v)\n",
    "w = [spikes[82], spikes[84], spikes[85]]\n",
    "alphabet.append(w)\n",
    "x = [spikes[140], spikes[141], spikes[142], spikes[145], spikes[146], spikes[147], spikes[148]]\n",
    "alphabet.append(x)\n",
    "y = [spikes[166], spikes[167], spikes[168], spikes[169]]\n",
    "alphabet.append(y)\n",
    "z = [spikes[170], spikes[171]]\n",
    "alphabet.append(z)\n",
    "tad = findTotalAverageDecay(alphabet)"
   ]
  },
  {
   "cell_type": "code",
   "execution_count": null,
   "metadata": {},
   "outputs": [],
   "source": [
    "plt.scatter([0, 1, 2, 3, 4], tad[:5]/tad[0])\n",
    "plt.title(\"Amplitude Decay (in percentage) vs. Time from first detection (frames) (Normalized by first frame)\")\n",
    "plt.xlabel(\"Frames from first detection (microns)\")\n",
    "plt.ylabel(\"Decay (percentage)\")"
   ]
  },
  {
   "cell_type": "code",
   "execution_count": null,
   "metadata": {},
   "outputs": [],
   "source": [
    "def descendingAmps(spikes):\n",
    "    descending_amps = sorted(spikes, key=lambda spike: -spike[2])\n",
    "    return descending_amps"
   ]
  },
  {
   "cell_type": "code",
   "execution_count": null,
   "metadata": {},
   "outputs": [],
   "source": [
    "def getDistancesfromMax(positions):\n",
    "    distances = []\n",
    "    max_position = positions[0]\n",
    "    for position in positions:\n",
    "        distances.append(np.linalg.norm(max_position-position))\n",
    "    return distances"
   ]
  },
  {
   "cell_type": "code",
   "execution_count": null,
   "metadata": {},
   "outputs": [],
   "source": [
    "def centerOfMass(positions, amps):\n",
    "    X_numerator = 0\n",
    "    Y_numerator = 0\n",
    "    denominator = 0\n",
    "    for i in range(len(amps)):\n",
    "        curr_amp = amps[i]\n",
    "        position = positions[i]\n",
    "        X_coordinate = position[0]\n",
    "        Y_coordinate = position[1]\n",
    "        weight = curr_amp\n",
    "        X_numerator += weight * X_coordinate\n",
    "        Y_numerator += weight * Y_coordinate\n",
    "        denominator += weight\n",
    "    X = X_numerator / denominator\n",
    "    Y = Y_numerator / denominator\n",
    "    return [X, Y]"
   ]
  },
  {
   "cell_type": "code",
   "execution_count": null,
   "metadata": {},
   "outputs": [],
   "source": [
    "def getDecay(amplitudes):\n",
    "    decay = []\n",
    "    max_amp = amplitudes[0]\n",
    "    for amplitude in amplitudes:\n",
    "        #print(amplitude)\n",
    "        #print(max_amp)\n",
    "        #print(amplitude/max_amp)\n",
    "        decay.append(amplitude/max_amp)\n",
    "    return decay"
   ]
  },
  {
   "cell_type": "code",
   "execution_count": null,
   "metadata": {},
   "outputs": [],
   "source": [
    "def getDistancesfromCOM(com, positions):\n",
    "    distances = []\n",
    "    for position in positions:\n",
    "        distances.append(np.linalg.norm(com-position))\n",
    "    return distances"
   ]
  },
  {
   "cell_type": "code",
   "execution_count": null,
   "metadata": {
    "scrolled": false
   },
   "outputs": [],
   "source": [
    "import numpy.polynomial.polynomial as poly\n",
    "\n",
    "total_dists = []\n",
    "for spikes in alphabet[:2]:\n",
    "    amps = []\n",
    "    channels = []\n",
    "    for spike in descendingAmps(spikes):\n",
    "        if spike[0] != 336:\n",
    "            channels.append(spike[0])\n",
    "            print(spike[0])\n",
    "            amps.append(spike[2])\n",
    "    positions = Probe.getChannelsPositions(channels)\n",
    "    com = centerOfMass(positions, amps)\n",
    "    dists = getDistancesfromCOM(com, positions)\n",
    "    #dists = getDistancesfromMax(positions)\n",
    "    #coefs = poly.polyfit(dists, getDecay(amps), 1)\n",
    "    #ffit = poly.polyval(dists, coefs)\n",
    "    plt.scatter(dists, getDecay(amps))\n",
    "plt.title(\"Amplitude Decay (in percentage) vs. Distance from Center of Mass of Spike (microns)\")\n",
    "plt.xlabel(\"Distance from Center of Mass of Spike  (microns)\")\n",
    "plt.ylabel(\"Decay (percentage)\")"
   ]
  },
  {
   "cell_type": "code",
   "execution_count": null,
   "metadata": {},
   "outputs": [],
   "source": [
    "H.PlotTracesChannels(4)"
   ]
  },
  {
   "cell_type": "code",
   "execution_count": null,
   "metadata": {},
   "outputs": [],
   "source": [
    "total_dists = []\n",
    "for spikes in alphabet:\n",
    "    amps = []\n",
    "    channels = []\n",
    "    for spike in descendingAmps(spikes):\n",
    "        channels.append(spike[0])\n",
    "        amps.append(spike[2])\n",
    "    print(getDistancesfromMax(Probe.getChannelsPositions(channels)))\n",
    "    print(getDecay(amps))\n",
    "    plt.scatter(getDistancesfromMax(Probe.getChannelsPositions(channels)), getDecay(amps))\n",
    "plt.scatter(distance_categories, percentage_list)\n",
    "plt.title(\"Amplitude Decay (in percentage) vs. Distance from Max Spike (microns)\")\n",
    "plt.xlabel(\"Distance from Max Spike (microns)\")\n",
    "plt.ylabel(\"Decay (percentage)\")"
   ]
  },
  {
   "cell_type": "code",
   "execution_count": null,
   "metadata": {},
   "outputs": [],
   "source": [
    "total_dists = []\n",
    "distance_categories = [0, 25.612496949731394, 32.0, 40.0, 52.0, 62.096698785040097, 86.16263691415206]\n",
    "distance_percentages = [[0,0], [0,0],[0,0],[0,0],[0,0],[0,0],[0,0]]\n",
    "for spikes in alphabet:\n",
    "    amps = []\n",
    "    channels = []\n",
    "    for spike in descendingAmps(spikes):\n",
    "        channels.append(spike[0])\n",
    "        amps.append(spike[2])\n",
    "    dists = getDistancesfromMax(Probe.getChannelsPositions(channels))\n",
    "    decays = getDecay(amps)\n",
    "    for i in range(len(decays)):\n",
    "        if distance_categories[0] == dists[i]:\n",
    "            distance_percentages[0][0] += decays[i]\n",
    "            distance_percentages[0][1] += 1\n",
    "        if distance_categories[1] == dists[i]:\n",
    "            distance_percentages[1][0] += decays[i]\n",
    "            distance_percentages[1][1] += 1\n",
    "        if distance_categories[2] == dists[i]:\n",
    "            distance_percentages[2][0] += decays[i]\n",
    "            distance_percentages[2][1] += 1\n",
    "        if distance_categories[3] == dists[i]:\n",
    "            distance_percentages[3][0] += decays[i]\n",
    "            distance_percentages[3][1] += 1\n",
    "        if distance_categories[4] == dists[i]:\n",
    "            distance_percentages[4][0] += decays[i]\n",
    "            distance_percentages[4][1] += 1\n",
    "        if distance_categories[5] == dists[i]:\n",
    "            distance_percentages[5][0] += decays[i]\n",
    "            distance_percentages[5][1] += 1\n",
    "        if distance_categories[6] == dists[i]:\n",
    "            distance_percentages[6][0] += decays[i]\n",
    "            distance_percentages[6][1] += 1\n",
    "print(distance_percentages)\n",
    "percentage_list = []\n",
    "for dp in distance_percentages:\n",
    "    percentage = dp[0]/dp[1]\n",
    "    percentage_list.append(percentage)\n",
    "\n",
    "plt.scatter(distance_categories, percentage_list)\n",
    "plt.title(\"Average Amplitude Decay (in percentage) vs. Distance from Max Spike (microns)\")\n",
    "plt.xlabel(\"Distance from Max Spike (microns)\")\n",
    "plt.ylabel(\"Average decay (percentage)\")\n"
   ]
  },
  {
   "cell_type": "code",
   "execution_count": null,
   "metadata": {},
   "outputs": [],
   "source": [
    "Probe.getChannelsPositions([0,1])"
   ]
  }
 ],
 "metadata": {
  "kernelspec": {
   "display_name": "Python 3",
   "language": "python",
   "name": "python3"
  },
  "language_info": {
   "codemirror_mode": {
    "name": "ipython",
    "version": 3
   },
   "file_extension": ".py",
   "mimetype": "text/x-python",
   "name": "python",
   "nbconvert_exporter": "python",
   "pygments_lexer": "ipython3",
   "version": "3.5.2"
  }
 },
 "nbformat": 4,
 "nbformat_minor": 2
}
