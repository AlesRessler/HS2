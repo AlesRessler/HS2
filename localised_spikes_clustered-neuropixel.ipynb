{
 "cells": [
  {
   "cell_type": "code",
   "execution_count": 1,
   "metadata": {},
   "outputs": [],
   "source": [
    "%load_ext autoreload\n",
    "%autoreload 2\n",
    "import matplotlib.pyplot as plt\n",
    "from hs2 import herdingspikes\n",
    "from probe import NeuroPixel\n",
    "from sklearn.cluster import DBSCAN\n",
    "\n",
    "%matplotlib inline"
   ]
  },
  {
   "cell_type": "code",
   "execution_count": 8,
   "metadata": {
    "scrolled": true
   },
   "outputs": [
    {
     "name": "stdout",
     "output_type": "stream",
     "text": [
      "hi\n"
     ]
    }
   ],
   "source": []
  },
  {
   "cell_type": "code",
   "execution_count": 2,
   "metadata": {
    "scrolled": true
   },
   "outputs": [],
   "source": [
    "# detectData(data, neighbours, spikefilename, shapefilename, channels, sfd, thres, maa = None, maxsl = None, minsl = None, ahpthr = None, tpre = 1, tpost = 2)\n",
    "# MinAvgAmp minimal avg. amplitude of peak (in units of Qd)\n",
    "# MaxSl dead time in frames after peak, used for further testing\n",
    "# MinSl length considered for determining avg. spike amplitude\n",
    "# AHPthr signal should go below that threshold within MaxSl-Slmin frames\n",
    "\n",
    "user = \"Cole\"\n",
    "\n",
    "if user == \"Hennig\":\n",
    "    data_path = '/disk/scratch/mhennig/neuropixel/data/rawDataSample.bin'\n",
    "elif user == \"Martino\":\n",
    "    data_path = \"data/rawDataSample.bin\"\n",
    "else:\n",
    "    data_path = '/home/cole/neuropixeldata/rawDataSample.bin'\n",
    "\n",
    "to_localize = True\n",
    "cutout_start = 10\n",
    "cutout_end = 30\n",
    "threshold = 12\n",
    "masking_channels = [35, 46] #Can put a list of channel numbers you want masked\n",
    "file_name = 'ProcessedSpikes'\n"
   ]
  },
  {
   "cell_type": "code",
   "execution_count": 3,
   "metadata": {},
   "outputs": [],
   "source": [
    "Probe = NeuroPixel(data_file_path=data_path, fps=30000, masked_channels = masking_channels)\n",
    "\n",
    "H = herdingspikes(Probe)"
   ]
  },
  {
   "cell_type": "code",
   "execution_count": 4,
   "metadata": {},
   "outputs": [
    {
     "name": "stdout",
     "output_type": "stream",
     "text": [
      "[1 1 1 1 1 1 1 1 1 1 1 1 1 1 1 1 1 1 1 1 1 1 1 1 1 1 1 1 1 1 1 1 1 1 1 0 1\n",
      " 1 1 1 1 1 1 1 1 1 0 1 1 1 1 1 1 1 1 1 1 1 1 1 1 1 1 1 1 1 1 1 1 1 1 1 1 1\n",
      " 1 1 1 1 1 1 1 1 1 1 1 1 1 1 1 1 1 1 1 1 1 1 1 1 1 1 1 1 1 1 1 1 1 1 1 1 1\n",
      " 1 1 1 1 1 1 1 1 1 1 1 1 1 1 1 1 1 1 1 1 1 1 1 1 1 1 1 1 1 1 1 1 1 1 1 1 1\n",
      " 1 1 1 1 1 1 1 1 1 1 1 1 1 1 1 1 1 1 1 1 1 1 1 1 1 1 1 1 1 1 1 1 1 1 1 1 1\n",
      " 1 1 1 1 1 1 1 1 1 1 1 1 1 1 1 1 1 1 1 1 1 1 1 1 1 1 1 1 1 1 1 1 1 1 1 1 1\n",
      " 1 1 1 1 1 1 1 1 1 1 1 1 1 1 1 1 1 1 1 1 1 1 1 1 1 1 1 1 1 1 1 1 1 1 1 1 1\n",
      " 1 1 1 1 1 1 1 1 1 1 1 1 1 1 1 1 1 1 1 1 1 1 1 1 1 1 1 1 1 1 1 1 1 1 1 1 1\n",
      " 1 1 1 1 1 1 1 1 1 1 1 1 1 1 1 1 1 1 1 1 1 1 1 1 1 1 1 1 1 1 1 1 1 1 1 1 1\n",
      " 1 1 1 1 1 1 1 1 1 1 1 1 1 1 1 1 1 1 1 1 1 1 1 1 1 1 1 1 1 1 1 1 1 1 1 1 1\n",
      " 1 1 1 1 0 0 0 0 0 0 0 0 0 0 0]\n",
      "# Sampling rate: 30000\n",
      "# Localization On\n",
      "# Masking Channels: [35, 46]\n",
      "# Number of recorded channels: 385\n",
      "# Analysing frames: 1800000, Seconds:60.0\n",
      "# Frames before spike in cutout: 30\n",
      "# Frames after spike in cutout: 66\n",
      "# tcuts: 42 55\n",
      "# tInc: 200000\n",
      "# Analysing 200000 frames; -42 200055\n",
      "# Analysing 200000 frames; 199958 400055\n",
      "# Analysing 200000 frames; 399958 600055\n",
      "# Analysing 200000 frames; 599958 800055\n",
      "# Analysing 200000 frames; 799958 1000055\n",
      "# Analysing 200000 frames; 999958 1200055\n",
      "# Analysing 200000 frames; 1199958 1400055\n",
      "# Analysing 200000 frames; 1399958 1600055\n",
      "# Analysing 199945 frames; 1599958 1800000\n",
      "# Time taken for detection: 0:00:14.441300\n",
      "# Time per frame: 0:00:00.008023\n",
      "# Time per sample: 0:00:00.000021\n",
      "Detected and read 384950 spikes.\n"
     ]
    }
   ],
   "source": [
    "H.DetectFromRaw(to_localize, cutout_start, cutout_end, threshold,\n",
    "                maa=0, maxsl=12, minsl=3, ahpthr=0)\n",
    "\n",
    "# # OR\n",
    "\n",
    "# H.LoadDetected()"
   ]
  },
  {
   "cell_type": "code",
   "execution_count": null,
   "metadata": {},
   "outputs": [],
   "source": [
    "#plt.figure(figsize=(20,10))\n",
    "H.PlotTracesChannels(3025)"
   ]
  },
  {
   "cell_type": "code",
   "execution_count": null,
   "metadata": {},
   "outputs": [],
   "source": [
    "plt.figure(figsize=(12, 4))\n",
    "H.PlotAll(invert=True, s=2, alpha=0.5)"
   ]
  },
  {
   "cell_type": "code",
   "execution_count": null,
   "metadata": {
    "scrolled": true
   },
   "outputs": [],
   "source": [
    "H.CombinedClustering(alpha=40,\n",
    "                    bandwidth=20, bin_seeding=True, min_bin_freq=10,\n",
    "                    pca_ncomponents=2, pca_whiten=True,\n",
    "                    n_jobs=-1)"
   ]
  },
  {
   "cell_type": "code",
   "execution_count": null,
   "metadata": {},
   "outputs": [],
   "source": [
    "plt.figure(figsize=(10, 5))\n",
    "H.PlotAll(invert=True, s=10)\n",
    "plt.xlim((1350,1600))\n",
    "plt.title(\"MeanShift, bandwidth=20, min_bin_freq=10\")"
   ]
  },
  {
   "cell_type": "code",
   "execution_count": null,
   "metadata": {
    "scrolled": true
   },
   "outputs": [],
   "source": [
    "H.CombinedClustering(eps=8, alpha=40, clustering_algorithm=DBSCAN,\n",
    "                    min_samples=5, pca_ncomponents=2, pca_whiten=True,\n",
    "                    n_jobs=-1)"
   ]
  },
  {
   "cell_type": "code",
   "execution_count": null,
   "metadata": {
    "scrolled": false
   },
   "outputs": [],
   "source": [
    "plt.figure(figsize=(10, 5))\n",
    "H.PlotAll(invert=True, s=8)\n",
    "plt.title(\"DBSCAN eps=8, min_samples=5\")\n",
    "plt.xlim((1350,1600))\n"
   ]
  },
  {
   "cell_type": "code",
   "execution_count": null,
   "metadata": {},
   "outputs": [],
   "source": [
    "units = (121,4)\n",
    "\n",
    "H.PlotShapes(units)"
   ]
  },
  {
   "cell_type": "code",
   "execution_count": null,
   "metadata": {},
   "outputs": [],
   "source": []
  }
 ],
 "metadata": {
  "kernelspec": {
   "display_name": "Python 3",
   "language": "python",
   "name": "python3"
  },
  "language_info": {
   "codemirror_mode": {
    "name": "ipython",
    "version": 3
   },
   "file_extension": ".py",
   "mimetype": "text/x-python",
   "name": "python",
   "nbconvert_exporter": "python",
   "pygments_lexer": "ipython3",
   "version": "3.5.2"
  }
 },
 "nbformat": 4,
 "nbformat_minor": 2
}
