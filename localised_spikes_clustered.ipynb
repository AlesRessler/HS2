{
 "cells": [
  {
   "cell_type": "code",
   "execution_count": null,
   "metadata": {},
   "outputs": [],
   "source": [
    "%load_ext autoreload\n",
    "%autoreload 2\n",
    "\n",
    "import matplotlib.pyplot as plt\n",
    "from hs2 import herdingspikes\n",
    "\n",
    "%matplotlib inline"
   ]
  },
  {
   "cell_type": "code",
   "execution_count": null,
   "metadata": {
    "collapsed": true
   },
   "outputs": [],
   "source": [
    "data_path = 'data/rawDataSample.bin'\n",
    "# data = h5py.File(data_path, 'r')\n",
    "# data = np.fromfile(data_path, dtype=np.int16).reshape((1800000,385))\n",
    "\n",
    "H = herdingspikes(datapath=data_path)"
   ]
  },
  {
   "cell_type": "code",
   "execution_count": null,
   "metadata": {
    "scrolled": true
   },
   "outputs": [],
   "source": [
    "# detectData(data, neighbours, spikefilename, shapefilename, channels, sfd, thres, maa = None, maxsl = None, minsl = None, ahpthr = None, tpre = 1, tpost = 2)\n",
    "# MinAvgAmp minimal avg. amplitude of peak (in units of Qd)\n",
    "# MaxSl dead time in frames after peak, used for further testing\n",
    "# MinSl length considered for determining avg. spike amplitude\n",
    "# AHPthr signal should go below that threshold within MaxSl-Slmin frames\n",
    "\n",
    "num_channels = 385\n",
    "num_recording_channels = 374\n",
    "spike_delay = 5\n",
    "spike_peak_duration = 5\n",
    "noise_duration = 2\n",
    "noise_amp = 80000\n",
    "max_neighbors = 14\n",
    "to_localize = True\n",
    "cutout_length = 40\n",
    "fps = 30000\n",
    "threshold = 20 #20\n",
    "\n",
    "H.DetectFromRaw(num_channels, num_recording_channels, spike_delay,\n",
    "               spike_peak_duration, noise_duration, noise_amp, max_neighbors,\n",
    "               to_localize, cutout_length, fps, threshold, maa=0,\n",
    "               maxsl=12, minsl=3, ahpthr=0)\n",
    "\n",
    "# H.LoadDetected()"
   ]
  },
  {
   "cell_type": "code",
   "execution_count": null,
   "metadata": {},
   "outputs": [],
   "source": [
    "H.PlotTracesChannels(1008)"
   ]
  },
  {
   "cell_type": "code",
   "execution_count": null,
   "metadata": {},
   "outputs": [],
   "source": [
    "plt.figure(figsize=(10, 4))\n",
    "H.PlotAll(invert=True, s=2, alpha=0.5)"
   ]
  },
  {
   "cell_type": "code",
   "execution_count": null,
   "metadata": {},
   "outputs": [],
   "source": [
    "H.CombinedMeanShift(bandwidth=20, alpha=40, bin_seeding=True,\n",
    "                    min_bin_freq=10, pca_ncomponents=2, pca_whiten=True,\n",
    "                    n_jobs=-1)"
   ]
  },
  {
   "cell_type": "code",
   "execution_count": null,
   "metadata": {
    "scrolled": false
   },
   "outputs": [],
   "source": [
    "plt.figure(figsize=(10, 5))\n",
    "H.PlotAll(invert=True, s=10, show_labels=True)\n",
    "plt.xlim((1350,1600))\n"
   ]
  },
  {
   "cell_type": "code",
   "execution_count": null,
   "metadata": {},
   "outputs": [],
   "source": [
    "units = (121,4)\n",
    "\n",
    "H.PlotShapes(units)"
   ]
  },
  {
   "cell_type": "code",
   "execution_count": null,
   "metadata": {
    "collapsed": true
   },
   "outputs": [],
   "source": []
  }
 ],
 "metadata": {
  "kernelspec": {
   "display_name": "Python 3",
   "language": "python",
   "name": "python3"
  },
  "language_info": {
   "codemirror_mode": {
    "name": "ipython",
    "version": 3
   },
   "file_extension": ".py",
   "mimetype": "text/x-python",
   "name": "python",
   "nbconvert_exporter": "python",
   "pygments_lexer": "ipython3",
   "version": "3.5.2"
  }
 },
 "nbformat": 4,
 "nbformat_minor": 2
}
