{
 "cells": [
  {
   "cell_type": "code",
   "execution_count": null,
   "metadata": {
    "collapsed": true
   },
   "outputs": [],
   "source": [
    "%load_ext autoreload\n",
    "%autoreload 2\n",
    "\n",
    "import matplotlib.pyplot as plt\n",
    "from hs2 import herdingspikes\n",
    "from Probe import NeuralProbe, NeuroPixel, BioCam\n",
    "import numpy as np\n",
    "\n",
    "%matplotlib inline"
   ]
  },
  {
   "cell_type": "code",
   "execution_count": null,
   "metadata": {
    "collapsed": false
   },
   "outputs": [],
   "source": [
    "# data = h5py.File(data_path, 'r')\n",
    "# data = np.fromfile(data_path, dtype=np.int16).reshape((1800000,385))\n",
    "\n",
    "Probe = NeuroPixel(fps=30000)\n",
    "# Probe = BioCam()\n",
    "H = herdingspikes(Probe)"
   ]
  },
  {
   "cell_type": "code",
   "execution_count": null,
   "metadata": {
    "collapsed": true,
    "scrolled": true
   },
   "outputs": [],
   "source": [
    "# detectData(data, neighbours, spikefilename, shapefilename, channels, sfd, thres, maa = None, maxsl = None, minsl = None, ahpthr = None, tpre = 1, tpost = 2)\n",
    "# MinAvgAmp minimal avg. amplitude of peak (in units of Qd)\n",
    "# MaxSl dead time in frames after peak, used for further testing\n",
    "# MinSl length considered for determining avg. spike amplitude\n",
    "# AHPthr signal should go below that threshold within MaxSl-Slmin frames\n",
    "\n",
    "# data_path = '/home/cole/neuropixeldata/rawDataSample.bin'\n",
    "data_path = '/disk/scratch/mhennig/neuropixel/data/rawDataSample.bin'\n",
    "data_format = 'flat'\n",
    "\n",
    "# data_path = '/disk/scratch/mhennig/P29_16_07_14/P29_16_05_14_retina02_left_stim3_fullarray_fullfieldHDF5.brw'\n",
    "# data_format = 'biocam'\n",
    "\n",
    "to_localize = True\n",
    "cutout_start = 10\n",
    "cutout_end = 30\n",
    "threshold = 12 #20"
   ]
  },
  {
   "cell_type": "code",
   "execution_count": null,
   "metadata": {
    "collapsed": false
   },
   "outputs": [],
   "source": [
    "H.DetectFromRaw(data_path,\n",
    "                to_localize, cutout_start, cutout_end, threshold,\n",
    "                maa=0, maxsl=12, minsl=3, ahpthr=0)\n",
    "\n",
    "# # OR\n",
    "\n",
    "# H.LoadDetected()"
   ]
  },
  {
   "cell_type": "code",
   "execution_count": null,
   "metadata": {
    "collapsed": false
   },
   "outputs": [],
   "source": [
    "H.PlotTracesChannels(data_path, 1022)"
   ]
  },
  {
   "cell_type": "code",
   "execution_count": null,
   "metadata": {
    "collapsed": false
   },
   "outputs": [],
   "source": [
    "plt.figure(figsize=(12, 4))\n",
    "H.PlotAll(invert=True, s=2, alpha=0.5)"
   ]
  },
  {
   "cell_type": "code",
   "execution_count": null,
   "metadata": {
    "collapsed": false,
    "scrolled": true
   },
   "outputs": [],
   "source": [
    "H.CombinedClustering(alpha=40,\n",
    "                    bandwidth=20, bin_seeding=True, min_bin_freq=10,\n",
    "                    pca_ncomponents=2, pca_whiten=True,\n",
    "                    n_jobs=-1)"
   ]
  },
  {
   "cell_type": "code",
   "execution_count": null,
   "metadata": {
    "collapsed": false
   },
   "outputs": [],
   "source": [
    "plt.figure(figsize=(10, 5))\n",
    "H.PlotAll(invert=True, s=10)\n",
    "plt.xlim((1350,1600))\n",
    "plt.title(\"MeanShift, bandwidth=20, min_bin_freq=10\")"
   ]
  },
  {
   "cell_type": "code",
   "execution_count": null,
   "metadata": {
    "collapsed": false,
    "scrolled": true
   },
   "outputs": [],
   "source": [
    "from sklearn.cluster import DBSCAN\n",
    "H.CombinedClustering(eps=8, alpha=40, clustering_algorithm=DBSCAN,\n",
    "                    min_samples=5, pca_ncomponents=2, pca_whiten=True,\n",
    "                    n_jobs=-1)"
   ]
  },
  {
   "cell_type": "code",
   "execution_count": null,
   "metadata": {
    "collapsed": false,
    "scrolled": false
   },
   "outputs": [],
   "source": [
    "plt.figure(figsize=(10, 5))\n",
    "H.PlotAll(invert=True, s=8)\n",
    "plt.title(\"DBSCAN eps=8, min_samples=5\")\n",
    "plt.xlim((1350,1600))\n"
   ]
  },
  {
   "cell_type": "code",
   "execution_count": null,
   "metadata": {
    "collapsed": false
   },
   "outputs": [],
   "source": [
    "units = (121,4)\n",
    "\n",
    "H.PlotShapes(units)"
   ]
  },
  {
   "cell_type": "code",
   "execution_count": null,
   "metadata": {
    "collapsed": true
   },
   "outputs": [],
   "source": []
  }
 ],
 "metadata": {
  "kernelspec": {
   "display_name": "Python 3",
   "language": "python",
   "name": "python3"
  }
 },
 "nbformat": 4,
 "nbformat_minor": 2
}
