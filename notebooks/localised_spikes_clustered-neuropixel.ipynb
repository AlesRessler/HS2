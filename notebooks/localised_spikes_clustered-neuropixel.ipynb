{
 "cells": [
  {
   "cell_type": "markdown",
   "metadata": {},
   "source": [
    "# Download a data file from the UCL server\n",
    "\n",
    "We're using a small [example data set](http://data.cortexlab.net/singlePhase3/) recorded by [Nick Steinmetz](http://www.nicksteinmetz.com/) at UCL."
   ]
  },
  {
   "cell_type": "code",
   "execution_count": null,
   "metadata": {},
   "outputs": [],
   "source": [
    "import urllib.request\n",
    "file_url = 'http://data.cortexlab.net/singlePhase3/data/rawDataSample.bin'\n",
    "file_name = \"rawDataSample.bin\"\n",
    "\n",
    "urllib.request.urlretrieve(file_url, file_name)"
   ]
  },
  {
   "cell_type": "markdown",
   "metadata": {},
   "source": [
    "# Use of the `HSDetection` class\n",
    "\n",
    "## Important note\n",
    "\n",
    "This is set up to run in the local directory structure.\n",
    "To have a working HS2, run\n",
    "\n",
    "``python setup.py build_ext --inplace``\n",
    "\n",
    "in the project root directory."
   ]
  },
  {
   "cell_type": "code",
   "execution_count": null,
   "metadata": {},
   "outputs": [],
   "source": [
    "import sys\n",
    "sys.path.append('../')\n",
    "from herdingspikes.hs2 import HSDetection\n",
    "from herdingspikes.probe import NeuroPixel\n",
    "import matplotlib.pyplot as plt\n",
    "%matplotlib inline"
   ]
  },
  {
   "cell_type": "code",
   "execution_count": null,
   "metadata": {
    "scrolled": true
   },
   "outputs": [],
   "source": [
    "# raw data file (as downloaded above)\n",
    "data_path = \"rawDataSample.bin\"\n",
    "\n",
    "# detection parameters\n",
    "to_localize = True\n",
    "cutout_start = 6\n",
    "cutout_end = 30\n",
    "num_com_centers = 2\n",
    "threshold = 20\n",
    "file_directory = 'results/'\n",
    "file_name = 'ProcessedSpikesNeuropixel'"
   ]
  },
  {
   "cell_type": "code",
   "execution_count": null,
   "metadata": {},
   "outputs": [],
   "source": [
    "Probe = NeuroPixel(data_path, neighbor_radius=120, masked_channels=[36, 75, 112, 151, 188, 227, 264, 303, 340, 379, 384])\n",
    "H = HSDetection(Probe, to_localize, num_com_centers, cutout_start, cutout_end, threshold,\n",
    "                maa=0, maxsl=12, minsl=3, ahpthr=0, out_file_name=file_name, \n",
    "                file_directory_name=file_directory, decay_filtering=True, save_all=True)"
   ]
  },
  {
   "cell_type": "code",
   "execution_count": null,
   "metadata": {
    "scrolled": true
   },
   "outputs": [],
   "source": [
    "Probe.show()"
   ]
  },
  {
   "cell_type": "code",
   "execution_count": null,
   "metadata": {
    "scrolled": false
   },
   "outputs": [],
   "source": [
    "H.DetectFromRaw()"
   ]
  },
  {
   "cell_type": "code",
   "execution_count": null,
   "metadata": {},
   "outputs": [],
   "source": [
    "H.LoadDetected()\n"
   ]
  },
  {
   "cell_type": "code",
   "execution_count": null,
   "metadata": {
    "scrolled": false
   },
   "outputs": [],
   "source": [
    "plt.figure(figsize=(10, 10))\n",
    "H.PlotTracesChannels(15, window_size=100)"
   ]
  },
  {
   "cell_type": "code",
   "execution_count": null,
   "metadata": {
    "scrolled": false
   },
   "outputs": [],
   "source": [
    "plt.figure(figsize=(14, 3))\n",
    "ax = plt.subplot(111)\n",
    "H.PlotAll(invert=True, s=1, alpha=0.2, ax=ax)\n",
    "ax.set_xlim((-100,600))"
   ]
  },
  {
   "cell_type": "markdown",
   "metadata": {},
   "source": [
    "# Use of the `HSClustering` class"
   ]
  },
  {
   "cell_type": "code",
   "execution_count": null,
   "metadata": {},
   "outputs": [],
   "source": [
    "from herdingspikes.hs2 import HSClustering\n",
    "\n",
    "# Load from file\n",
    "#C = Clustering(['results/ProcessedSpikes_mea1k.bin', 'results/ProcessedSpikes_mea1k.bin'], cutout_length=41)\n",
    "\n",
    "# Or if the spikes are already in memory\n",
    "# simply load from the Detection class\n",
    "C = HSClustering(H)"
   ]
  },
  {
   "cell_type": "code",
   "execution_count": null,
   "metadata": {},
   "outputs": [],
   "source": [
    "%%time\n",
    "# Compute features\n",
    "C.ShapePCA(pca_ncomponents=2, pca_whiten=True);"
   ]
  },
  {
   "cell_type": "code",
   "execution_count": null,
   "metadata": {
    "scrolled": true
   },
   "outputs": [],
   "source": [
    "%%time\n",
    "# Cluster all spikes\n",
    "\n",
    "# This shows how a (potentially relatively small) subset of spikes \n",
    "# can be used to form clusters. All spikes are then assigned\n",
    "# to these clusters in batches. This allows clustering of very large \n",
    "# recordings (also multiple files) without exhausting memory.\n",
    "\n",
    "C.CombinedClustering(alpha=7, bandwidth=5.0, bin_seeding=False, n_jobs=-1, cluster_subset=100000)"
   ]
  },
  {
   "cell_type": "code",
   "execution_count": null,
   "metadata": {},
   "outputs": [],
   "source": [
    "plt.figure(figsize=(14, 4))\n",
    "ax = plt.subplot(111)\n",
    "C.PlotAll(invert=True, s=1, ax=ax, max_show=100000, show_labels=False)\n",
    "plt.title(\"MeanShift, bandwidth=5, no bin seeding\");\n",
    "ax.set_xlim((30,330))\n"
   ]
  },
  {
   "cell_type": "code",
   "execution_count": null,
   "metadata": {},
   "outputs": [],
   "source": [
    "units = range(16)\n",
    "C.PlotShapes(units)"
   ]
  },
  {
   "cell_type": "code",
   "execution_count": null,
   "metadata": {},
   "outputs": [],
   "source": [
    "C.PlotNeighbourhood(2, radius=6, alpha=0.8);"
   ]
  },
  {
   "cell_type": "code",
   "execution_count": null,
   "metadata": {},
   "outputs": [],
   "source": [
    "# Save the results\n",
    "\n",
    "C.SaveHDF5(file_name+\"_sorted.hdf5\")"
   ]
  },
  {
   "cell_type": "code",
   "execution_count": null,
   "metadata": {},
   "outputs": [],
   "source": []
  }
 ],
 "metadata": {
  "kernelspec": {
   "display_name": "Python 3",
   "language": "python",
   "name": "python3"
  },
  "language_info": {
   "codemirror_mode": {
    "name": "ipython",
    "version": 3
   },
   "file_extension": ".py",
   "mimetype": "text/x-python",
   "name": "python",
   "nbconvert_exporter": "python",
   "pygments_lexer": "ipython3",
   "version": "3.7.2"
  }
 },
 "nbformat": 4,
 "nbformat_minor": 2
}
