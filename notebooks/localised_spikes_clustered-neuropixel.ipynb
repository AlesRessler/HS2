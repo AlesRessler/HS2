{
 "cells": [
  {
   "cell_type": "markdown",
   "metadata": {},
   "source": [
    "# Download a data file from the UCL server\n",
    "\n",
    "We're using a small [example data set](http://data.cortexlab.net/singlePhase3/) recorded by [Nick Steinmetz](http://www.nicksteinmetz.com/) at UCL."
   ]
  },
  {
   "cell_type": "code",
   "execution_count": 1,
   "metadata": {},
   "outputs": [
    {
     "data": {
      "text/plain": [
       "('rawDataSample.bin', <http.client.HTTPMessage at 0x7f993c373860>)"
      ]
     },
     "execution_count": 1,
     "metadata": {},
     "output_type": "execute_result"
    }
   ],
   "source": [
    "import urllib.request\n",
    "file_url = 'http://data.cortexlab.net/singlePhase3/data/rawDataSample.bin'\n",
    "file_name = \"rawDataSample.bin\"\n",
    "\n",
    "urllib.request.urlretrieve(file_url, file_name)"
   ]
  },
  {
   "cell_type": "markdown",
   "metadata": {},
   "source": [
    "# Use of the `HSDetection` class"
   ]
  },
  {
   "cell_type": "code",
   "execution_count": 1,
   "metadata": {},
   "outputs": [
    {
     "name": "stderr",
     "output_type": "stream",
     "text": [
      "/home/cole/.local/lib/python3.5/site-packages/h5py/__init__.py:36: FutureWarning: Conversion of the second argument of issubdtype from `float` to `np.floating` is deprecated. In future, it will be treated as `np.float64 == np.dtype(float).type`.\n",
      "  from ._conv import register_converters as _register_converters\n"
     ]
    }
   ],
   "source": [
    "import sys\n",
    "sys.path.append('..')\n",
    "from hs2 import HSDetection\n",
    "from probe import NeuroPixel\n",
    "import warnings\n",
    "import matplotlib.pyplot as plt\n",
    "warnings.filterwarnings(\"ignore\")\n",
    "%matplotlib inline"
   ]
  },
  {
   "cell_type": "code",
   "execution_count": 7,
   "metadata": {
    "scrolled": true
   },
   "outputs": [],
   "source": [
    "# raw data location (as downloaded above)\n",
    "data_path = file_name\n",
    "\n",
    "\n",
    "# detection parameters\n",
    "to_localize = True\n",
    "cutout_start = 6\n",
    "cutout_end = 30\n",
    "threshold = 22\n",
    "file_directory = 'results/'\n",
    "file_name = 'ProcessedSpikesNeuropixel'"
   ]
  },
  {
   "cell_type": "code",
   "execution_count": 8,
   "metadata": {},
   "outputs": [],
   "source": [
    "Probe = NeuroPixel(data_path)\n",
    "H = HSDetection(Probe, to_localize, cutout_start, cutout_end, threshold,\n",
    "                maa=0, maxsl=12, minsl=3, ahpthr=0, out_file_name=file_name, \n",
    "                file_directory_name=file_directory, save_all=True)"
   ]
  },
  {
   "cell_type": "code",
   "execution_count": 9,
   "metadata": {
    "scrolled": true
   },
   "outputs": [],
   "source": [
    "# Probe.show([0])"
   ]
  },
  {
   "cell_type": "code",
   "execution_count": 10,
   "metadata": {
    "scrolled": false
   },
   "outputs": [
    {
     "name": "stdout",
     "output_type": "stream",
     "text": [
      "# Sampling rate: 30000\n",
      "# Localization On\n",
      "# Not Masking any Channels\n",
      "# Writing out extended detection info\n",
      "# Number of recorded channels: 385\n",
      "# Analysing frames: 1800000, Seconds:60.0\n",
      "# Frames before spike in cutout: 30\n",
      "# Frames after spike in cutout: 66\n",
      "# tcuts: 42 55\n",
      "# tInc: 50000\n",
      "# Analysing 50000 frames; from -42 to 50055\n",
      "# Analysing 50000 frames; from 49958 to 100055\n",
      "# Analysing 50000 frames; from 99958 to 150055\n",
      "# Analysing 50000 frames; from 149958 to 200055\n",
      "# Analysing 50000 frames; from 199958 to 250055\n",
      "# Analysing 50000 frames; from 249958 to 300055\n",
      "# Analysing 50000 frames; from 299958 to 350055\n",
      "# Analysing 50000 frames; from 349958 to 400055\n",
      "# Analysing 50000 frames; from 399958 to 450055\n",
      "# Analysing 50000 frames; from 449958 to 500055\n",
      "# Analysing 50000 frames; from 499958 to 550055\n",
      "# Analysing 50000 frames; from 549958 to 600055\n",
      "# Analysing 50000 frames; from 599958 to 650055\n",
      "# Analysing 50000 frames; from 649958 to 700055\n",
      "# Analysing 50000 frames; from 699958 to 750055\n",
      "# Analysing 50000 frames; from 749958 to 800055\n",
      "# Analysing 50000 frames; from 799958 to 850055\n",
      "# Analysing 50000 frames; from 849958 to 900055\n",
      "# Analysing 50000 frames; from 899958 to 950055\n",
      "# Analysing 50000 frames; from 949958 to 1000055\n",
      "# Analysing 50000 frames; from 999958 to 1050055\n",
      "# Analysing 50000 frames; from 1049958 to 1100055\n",
      "# Analysing 50000 frames; from 1099958 to 1150055\n",
      "# Analysing 50000 frames; from 1149958 to 1200055\n",
      "# Analysing 50000 frames; from 1199958 to 1250055\n",
      "# Analysing 50000 frames; from 1249958 to 1300055\n",
      "# Analysing 50000 frames; from 1299958 to 1350055\n",
      "# Analysing 50000 frames; from 1349958 to 1400055\n",
      "# Analysing 50000 frames; from 1399958 to 1450055\n",
      "# Analysing 50000 frames; from 1449958 to 1500055\n",
      "# Analysing 50000 frames; from 1499958 to 1550055\n",
      "# Analysing 50000 frames; from 1549958 to 1600055\n",
      "# Analysing 50000 frames; from 1599958 to 1650055\n",
      "# Analysing 50000 frames; from 1649958 to 1700055\n",
      "# Analysing 50000 frames; from 1699958 to 1750055\n",
      "# Time taken for detection: 0:00:13.903733\n",
      "# Time per frame: 0:00:00.007724\n",
      "# Time per sample: 0:00:00.000020\n"
     ]
    }
   ],
   "source": [
    "H.DetectFromRaw()"
   ]
  },
  {
   "cell_type": "code",
   "execution_count": 7,
   "metadata": {},
   "outputs": [
    {
     "name": "stdout",
     "output_type": "stream",
     "text": [
      "Detected and read 113268 spikes.\n"
     ]
    }
   ],
   "source": [
    "H.LoadDetected()"
   ]
  },
  {
   "cell_type": "code",
   "execution_count": null,
   "metadata": {
    "scrolled": false
   },
   "outputs": [],
   "source": [
    "plt.figure(figsize=(10, 10))\n",
    "H.PlotTracesChannels(2000, window_size=100)"
   ]
  },
  {
   "cell_type": "code",
   "execution_count": null,
   "metadata": {
    "scrolled": false
   },
   "outputs": [],
   "source": [
    "plt.figure(figsize=(14, 3))\n",
    "ax = plt.subplot(111)\n",
    "H.PlotAll(invert=True, s=1, alpha=0.2, ax=ax)\n",
    "ax.set_xlim((0,500))"
   ]
  },
  {
   "cell_type": "markdown",
   "metadata": {},
   "source": [
    "# Use of the `HSClustering` class"
   ]
  },
  {
   "cell_type": "code",
   "execution_count": null,
   "metadata": {},
   "outputs": [],
   "source": [
    "from hs2 import HSClustering\n",
    "# Load from file\n",
    "#C = Clustering(['results/ProcessedSpikes_mea1k.bin', 'results/ProcessedSpikes_mea1k.bin'], cutout_length=41)\n",
    "\n",
    "# Or if the spikes are already in memory\n",
    "# simply load from the Detection class\n",
    "C = HSClustering(H)"
   ]
  },
  {
   "cell_type": "code",
   "execution_count": null,
   "metadata": {},
   "outputs": [],
   "source": [
    "%%time\n",
    "C.ShapePCA(pca_ncomponents=2, pca_whiten=True);"
   ]
  },
  {
   "cell_type": "code",
   "execution_count": null,
   "metadata": {
    "scrolled": true
   },
   "outputs": [],
   "source": [
    "%%time\n",
    "C.CombinedClustering(alpha=5, bandwidth=5., bin_seeding=False, n_jobs=-1,cluster_subset=50000)"
   ]
  },
  {
   "cell_type": "code",
   "execution_count": null,
   "metadata": {},
   "outputs": [],
   "source": [
    "plt.figure(figsize=(14, 4))\n",
    "ax = plt.subplot(111)\n",
    "C.PlotAll(invert=True, s=1, ax=ax, max_show=100000,show_labels=False)\n",
    "plt.title(\"MeanShift, bandwidth=.3, no bin seeding\");\n",
    "ax.set_xlim((0,500))\n"
   ]
  },
  {
   "cell_type": "code",
   "execution_count": null,
   "metadata": {},
   "outputs": [],
   "source": [
    "units = range(16)\n",
    "C.PlotShapes(units)"
   ]
  },
  {
   "cell_type": "code",
   "execution_count": null,
   "metadata": {},
   "outputs": [],
   "source": [
    "C.PlotNeighbourhood(1,radius=2, alpha=0.8);"
   ]
  },
  {
   "cell_type": "code",
   "execution_count": null,
   "metadata": {},
   "outputs": [],
   "source": [
    "# save results:\n",
    "C.SaveHDF5(file_name+\"_sorted.hdf5\")"
   ]
  }
 ],
 "metadata": {
  "kernelspec": {
   "display_name": "Python 3",
   "language": "python",
   "name": "python3"
  },
  "language_info": {
   "codemirror_mode": {
    "name": "ipython",
    "version": 3
   },
   "file_extension": ".py",
   "mimetype": "text/x-python",
   "name": "python",
   "nbconvert_exporter": "python",
   "pygments_lexer": "ipython3",
   "version": "3.5.2"
  }
 },
 "nbformat": 4,
 "nbformat_minor": 2
}
