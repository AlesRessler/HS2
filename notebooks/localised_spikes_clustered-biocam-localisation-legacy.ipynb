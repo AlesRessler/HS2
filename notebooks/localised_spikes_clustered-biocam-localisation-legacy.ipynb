{
 "cells": [
  {
   "cell_type": "markdown",
   "metadata": {},
   "source": [
    "# Re-cluster spikes detected with HS1"
   ]
  },
  {
   "cell_type": "code",
   "execution_count": null,
   "metadata": {},
   "outputs": [],
   "source": [
    "%load_ext autoreload\n",
    "%autoreload 2\n",
    "\n",
    "import sys\n",
    "sys.path.append('..')\n",
    "\n",
    "import matplotlib.pyplot as plt\n",
    "from hs2 import herdingspikes\n",
    "from probe import NeuralProbe, NeuroPixel, BioCam\n",
    "import numpy as np\n",
    "\n",
    "%matplotlib inline"
   ]
  },
  {
   "cell_type": "code",
   "execution_count": null,
   "metadata": {},
   "outputs": [],
   "source": [
    "Probe = BioCam()\n",
    "H = herdingspikes(Probe)"
   ]
  },
  {
   "cell_type": "code",
   "execution_count": null,
   "metadata": {},
   "outputs": [],
   "source": [
    "path = '/disk/scratch/mhennig/P29_16_07_14/HdfFilesSpkD45_dev/'\n",
    "lfile = 'P29_16_05_14_retina01_right_stim2_smallarray_fullfield_v28_clustered_0.3_0.34_align_multi.hdf5'\n",
    "H.Load_HDF5_legacy(path+lfile, chunk_size=1000000, compute_amplitudes=False)"
   ]
  },
  {
   "cell_type": "code",
   "execution_count": null,
   "metadata": {},
   "outputs": [],
   "source": [
    "# overview\n",
    "plt.figure(figsize=(8, 8))\n",
    "H.PlotAll(invert=True, s=1, alpha=0.05)\n",
    "plt.axis('equal')"
   ]
  },
  {
   "cell_type": "markdown",
   "metadata": {},
   "source": [
    "# Spike sorting"
   ]
  },
  {
   "cell_type": "code",
   "execution_count": null,
   "metadata": {},
   "outputs": [],
   "source": [
    "%%time\n",
    "# There are several methods available now\n",
    "\n",
    "# mean shift\n",
    "H.CombinedClustering(bandwidth=0.3, bin_seeding=True, alpha=0.3,\n",
    "                    min_bin_freq=10, pca_ncomponents=2, pca_whiten=True,\n",
    "                    n_jobs=-1)\n",
    "\n",
    "# DBScan\n",
    "# from sklearn.cluster import DBSCAN\n",
    "# H.CombinedClustering(eps=0.2, alpha=0.4, clustering_algorithm=HDBSCAN,\n",
    "#                     min_samples=5, pca_ncomponents=2, pca_whiten=True,\n",
    "#                     n_jobs=-1)\n",
    "\n",
    "# HDBScan\n",
    "# import hdbscan\n",
    "# # H.CombinedClustering(min_cluster_size=10, alpha=0.6, clustering_algorithm=HDBSCAN,\n",
    "# #                     min_samples=5, pca_ncomponents=2, pca_whiten=True)\n"
   ]
  },
  {
   "cell_type": "code",
   "execution_count": null,
   "metadata": {},
   "outputs": [],
   "source": [
    "plt.figure(figsize=(10, 10))\n",
    "H.PlotAll(invert=True, s=1, alpha=0.05)"
   ]
  },
  {
   "cell_type": "code",
   "execution_count": null,
   "metadata": {},
   "outputs": [],
   "source": [
    "# Show a few units\n",
    "\n",
    "units = (10,20)\n",
    "H.PlotShapes(units)"
   ]
  },
  {
   "cell_type": "code",
   "execution_count": null,
   "metadata": {},
   "outputs": [],
   "source": [
    "# sort by cluster size, select one, and plot in space\n",
    "# unclustered spikes are shown in white\n",
    "\n",
    "# which cluster should be shown\n",
    "cluster_number = 400\n",
    "radius = 1.5\n",
    "\n",
    "plt.figure(figsize=(6,6))\n",
    "ax = plt.axes(facecolor='k')\n",
    "largest = np.argsort(H.clusters['Size']).values[::-1]\n",
    "cl = largest[cluster_number]\n",
    "print(cl)\n",
    "cx, cy = H.clusters['ctr_x'][cl],H.clusters['ctr_y'][cl]\n",
    "dists = np.sqrt((cx-H.clusters['ctr_x'])**2+(cy-H.clusters['ctr_y'])**2)\n",
    "clInds = np.where(dists<radius)[0]\n",
    "for cl_t in clInds:\n",
    "    cx, cy = H.clusters['ctr_x'][cl_t],H.clusters['ctr_y'][cl_t]\n",
    "    inds = np.where(H.spikes.cl==cl_t)[0]\n",
    "    x,y = H.spikes.x[inds],H.spikes.y[inds]\n",
    "    plt.scatter(x,y,c=plt.cm.hsv(H.clusters['Color'][cl_t]), s=6,alpha=1)\n",
    "    plt.text(cx-0.1,cy,str(cl_t), fontsize=16, color='w')\n",
    "plt.axis('equal');\n",
    "# slice out the unclustered spikes\n",
    "# is there a better way?\n",
    "cx, cy = H.clusters['ctr_x'][cl],H.clusters['ctr_y'][cl]\n",
    "inds = np.where(H.spikes.cl==-1)[0]\n",
    "x,y = H.spikes.x[inds].values, H.spikes.y[inds].values\n",
    "dists = np.sqrt((cx-x)**2+(cy-y)**2)\n",
    "spInds = np.where(dists<radius)[0][:1000]\n",
    "plt.scatter(x[spInds], y[spInds], c='w', s=6, alpha=0.4)\n",
    "\n",
    "# plt.scatter(H.clusters.ctr_x[cl], H.clusters.ctr_y[cl],marker='o',s=600)\n",
    "plt.scatter(H.centerz[cl][0], H.centerz[cl][1],marker='o',s=600)"
   ]
  },
  {
   "cell_type": "code",
   "execution_count": null,
   "metadata": {},
   "outputs": [],
   "source": [
    "# waveforms for the spikes above\n",
    "# * identifies the selected cluster above\n",
    "\n",
    "plt.figure(figsize=(14,14))\n",
    "cx, cy = H.clusters['ctr_x'][cl],H.clusters['ctr_y'][cl]\n",
    "plt.subplot(4,4,1)\n",
    "inds = np.where(H.spikes.cl==-1)[0]\n",
    "x,y = H.spikes.x[inds].values, H.spikes.y[inds].values\n",
    "dists = np.sqrt((cx-x)**2+(cy-y)**2)\n",
    "spInds = np.where(dists<radius)[0][:20]\n",
    "for i in inds[spInds]:\n",
    "    plt.plot(H.spikes.Shape[i],'gray')\n",
    "plt.ylim((-14000,6000))    \n",
    "plt.title('unclustered')\n",
    "dists = np.sqrt((cx-H.clusters['ctr_x'])**2+(cy-H.clusters['ctr_y'])**2)\n",
    "clInds = np.where(dists<radius)[0]\n",
    "for i,cl_t in enumerate(clInds[:15]):\n",
    "    plt.subplot(4,4,i+2)\n",
    "    spInds = np.where(H.spikes.cl==cl_t)[0]\n",
    "    for i in spInds[:50]:\n",
    "        plt.plot(H.spikes.Shape[i],color=plt.cm.hsv(H.clusters['Color'][cl_t]))#'k')\n",
    "    plt.ylim((-14000,6000))    \n",
    "    if cl_t==cl:\n",
    "        plt.title('* cluster '+str(cl_t))\n",
    "    else:\n",
    "        plt.title('cluster '+str(cl_t))\n",
    "\n",
    "plt.figure(figsize=(8,6))\n",
    "inds = np.where(H.spikes.cl==-1)[0]\n",
    "x,y = H.spikes.x[inds].values, H.spikes.y[inds].values\n",
    "dists = np.sqrt((cx-x)**2+(cy-y)**2)\n",
    "spInds = np.where(dists<radius)[0]\n",
    "plt.plot(H.spikes.Shape[spInds].mean(),'gray',lw=4)\n",
    "dists = np.sqrt((cx-H.clusters['ctr_x'])**2+(cy-H.clusters['ctr_y'])**2)\n",
    "clInds = np.where(dists<radius)[0]\n",
    "for i,cl_t in enumerate(clInds[:15]):\n",
    "    spInds = np.where(H.spikes.cl==cl_t)[0]\n",
    "    plt.plot(H.spikes.Shape[spInds].mean(),color=plt.cm.hsv(H.clusters['Color'][cl_t]), label=cl_t, lw=4)\n"
   ]
  },
  {
   "cell_type": "code",
   "execution_count": null,
   "metadata": {},
   "outputs": [],
   "source": [
    "# save the data to the old hdf5 format\n",
    "# note cluster 0 are unclustered spikes\n",
    "\n",
    "# H.Save_HDF5_legacy('out.hdf5')\n"
   ]
  }
 ],
 "metadata": {
  "kernelspec": {
   "display_name": "Python 3",
   "language": "python",
   "name": "python3"
  },
  "language_info": {
   "codemirror_mode": {
    "name": "ipython",
    "version": 3
   },
   "file_extension": ".py",
   "mimetype": "text/x-python",
   "name": "python",
   "nbconvert_exporter": "python",
   "pygments_lexer": "ipython3",
   "version": "3.6.3"
  }
 },
 "nbformat": 4,
 "nbformat_minor": 2
}
