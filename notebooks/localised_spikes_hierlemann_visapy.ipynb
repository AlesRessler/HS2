{
 "cells": [
  {
   "cell_type": "code",
   "execution_count": null,
   "metadata": {},
   "outputs": [],
   "source": [
    "%load_ext autoreload\n",
    "%autoreload 2\n",
    "\n",
    "%matplotlib inline"
   ]
  },
  {
   "cell_type": "markdown",
   "metadata": {},
   "source": [
    "# Use of the `HSDetection` class"
   ]
  },
  {
   "cell_type": "code",
   "execution_count": null,
   "metadata": {},
   "outputs": [],
   "source": [
    "import sys\n",
    "sys.path.append('..')\n",
    "from hs2 import HSDetection\n",
    "from probe import HierlmannVisapyEmulationProbe\n",
    "import numpy as np\n",
    "import h5py"
   ]
  },
  {
   "cell_type": "code",
   "execution_count": null,
   "metadata": {
    "scrolled": true
   },
   "outputs": [],
   "source": [
    "# raw data location\n",
    "data_path = 'rawHierlmannVisapy.npy'\n",
    "\n",
    "# detection parameters\n",
    "to_localize = True\n",
    "cutout_start = 10\n",
    "cutout_end = 20\n",
    "threshold = 12\n",
    "file_name = 'ProcessedSpikes_visapy'"
   ]
  },
  {
   "cell_type": "code",
   "execution_count": null,
   "metadata": {},
   "outputs": [],
   "source": [
    "Probe = HierlmannVisapyEmulationProbe(data_path)\n",
    "H = HSDetection(Probe, to_localize, cutout_start, cutout_end, threshold,\n",
    "                maa=0, maxsl=12, minsl=3, ahpthr=0, out_file_name=file_name, save_all=True)"
   ]
  },
  {
   "cell_type": "code",
   "execution_count": null,
   "metadata": {
    "scrolled": true
   },
   "outputs": [],
   "source": [
    "Probe.show()"
   ]
  },
  {
   "cell_type": "code",
   "execution_count": null,
   "metadata": {
    "scrolled": true
   },
   "outputs": [],
   "source": [
    "H.DetectFromRaw()"
   ]
  },
  {
   "cell_type": "code",
   "execution_count": null,
   "metadata": {},
   "outputs": [],
   "source": [
    "H.LoadDetected()"
   ]
  },
  {
   "cell_type": "code",
   "execution_count": null,
   "metadata": {},
   "outputs": [],
   "source": [
    "import matplotlib.pyplot as plt\n",
    "plt.figure(figsize=(15, 10))\n",
    "H.PlotTracesChannels(510)"
   ]
  },
  {
   "cell_type": "code",
   "execution_count": null,
   "metadata": {},
   "outputs": [],
   "source": [
    "def closestChannels(neurons):\n",
    "    closest_channels = []\n",
    "    for neuron in neurons:\n",
    "        dists = np.sqrt((elec_x-somapos[0][neuron][0])**2+(elec_y-somapos[0][neuron][1])**2)\n",
    "        chinds = np.argsort(dists) # sort by distance, first is closest\n",
    "        closest_channels.append((neuron, chinds[0]))\n",
    "    return closest_channels\n",
    "plt.figure(figsize=(15, 10))\n",
    "print(closestChannels([50])[0][1])\n",
    "H.PlotData(50, 10308, closestChannels([13])[0][1])"
   ]
  },
  {
   "cell_type": "markdown",
   "metadata": {},
   "source": [
    "# Use of the `HSClustering` class"
   ]
  },
  {
   "cell_type": "code",
   "execution_count": null,
   "metadata": {},
   "outputs": [],
   "source": [
    "from hs2 import HSClustering\n",
    "from sklearn.cluster import DBSCAN"
   ]
  },
  {
   "cell_type": "code",
   "execution_count": null,
   "metadata": {},
   "outputs": [],
   "source": [
    "# Load from file\n",
    "#C = Clustering(['results/ProcessedSpikes_mea1k.bin', 'results/ProcessedSpikes_mea1k.bin'], cutout_length=41)\n",
    "\n",
    "# Or if the spikes are already in memory\n",
    "# simply load from the Detection class\n",
    "C = HSClustering(H)"
   ]
  },
  {
   "cell_type": "code",
   "execution_count": null,
   "metadata": {
    "scrolled": true
   },
   "outputs": [],
   "source": [
    "C.ShapePCA(pca_ncomponents=2, pca_whiten=True)\n",
    "\n",
    "C.CombinedClustering(alpha=0.4, bandwidth=0.3, bin_seeding=True,\n",
    "                     min_bin_freq=10, n_jobs=-1)"
   ]
  },
  {
   "cell_type": "code",
   "execution_count": null,
   "metadata": {},
   "outputs": [],
   "source": [
    "import matplotlib.pyplot as plt\n",
    "\n",
    "plt.figure(figsize=(10, 10))\n",
    "C.PlotAll(invert=True, s=1, show_labels=True)\n",
    "plt.title(\"MeanShift, bandwidth=.3, min_bin_freq=10\");\n",
    "plt.xlim([0,25])\n",
    "plt.ylim([0,25])"
   ]
  },
  {
   "cell_type": "code",
   "execution_count": null,
   "metadata": {},
   "outputs": [],
   "source": [
    "C.SaveHDF5(\"f1.hdf5\")"
   ]
  },
  {
   "cell_type": "code",
   "execution_count": null,
   "metadata": {},
   "outputs": [],
   "source": []
  }
 ],
 "metadata": {
  "kernelspec": {
   "display_name": "Python 3",
   "language": "python",
   "name": "python3"
  },
  "language_info": {
   "codemirror_mode": {
    "name": "ipython",
    "version": 3
   },
   "file_extension": ".py",
   "mimetype": "text/x-python",
   "name": "python",
   "nbconvert_exporter": "python",
   "pygments_lexer": "ipython3",
   "version": "3.6.3"
  }
 },
 "nbformat": 4,
 "nbformat_minor": 2
}
