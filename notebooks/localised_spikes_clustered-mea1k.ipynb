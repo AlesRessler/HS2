{
 "cells": [
  {
   "cell_type": "markdown",
   "metadata": {},
   "source": [
    "# Use of the `HSDetection` class"
   ]
  },
  {
   "cell_type": "code",
   "execution_count": null,
   "metadata": {
    "collapsed": true
   },
   "outputs": [],
   "source": [
    "from herdingspikes import HSDetection\n",
    "from herdingspikes.probe import Mea1k\n",
    "\n",
    "%matplotlib inline"
   ]
  },
  {
   "cell_type": "code",
   "execution_count": null,
   "metadata": {
    "collapsed": true,
    "scrolled": true
   },
   "outputs": [],
   "source": [
    "# raw data location\n",
    "data_path = '/disk/scratch/martino/Clustering/spike_sorting_neuropixel/data/Trace_20171218_16_26_42.raw.h5'\n",
    "\n",
    "# detection parameters\n",
    "to_localize = True\n",
    "cutout_start = 10\n",
    "cutout_end = 30\n",
    "threshold = 7\n",
    "file_name = '../data/ProcessedSpikes_mea1k'"
   ]
  },
  {
   "cell_type": "code",
   "execution_count": null,
   "metadata": {
    "collapsed": true
   },
   "outputs": [],
   "source": [
    "Probe = Mea1k(data_path)\n",
    "H = HSDetection(Probe, to_localize, cutout_start, cutout_end, threshold,\n",
    "                maa=0, maxsl=12, minsl=3, ahpthr=0, out_file_name=file_name)"
   ]
  },
  {
   "cell_type": "code",
   "execution_count": null,
   "metadata": {
    "collapsed": true
   },
   "outputs": [],
   "source": [
    "Probe.show(figwidth=10)"
   ]
  },
  {
   "cell_type": "code",
   "execution_count": null,
   "metadata": {
    "collapsed": true
   },
   "outputs": [],
   "source": [
    "H.DetectFromRaw()"
   ]
  },
  {
   "cell_type": "code",
   "execution_count": null,
   "metadata": {
    "collapsed": true
   },
   "outputs": [],
   "source": [
    "H.LoadDetected()"
   ]
  },
  {
   "cell_type": "code",
   "execution_count": null,
   "metadata": {
    "collapsed": true
   },
   "outputs": [],
   "source": [
    "H.PlotTracesChannels(100)"
   ]
  },
  {
   "cell_type": "code",
   "execution_count": null,
   "metadata": {
    "collapsed": true,
    "scrolled": false
   },
   "outputs": [],
   "source": [
    "import matplotlib.pyplot as plt\n",
    "\n",
    "plt.figure(figsize=(10, 10))\n",
    "H.PlotAll(invert=True, s=1, alpha=0.05)\n",
    "plt.axis('equal');"
   ]
  },
  {
   "cell_type": "markdown",
   "metadata": {},
   "source": [
    "# Use of the `HSClustering` class"
   ]
  },
  {
   "cell_type": "code",
   "execution_count": null,
   "metadata": {
    "collapsed": true
   },
   "outputs": [],
   "source": [
    "from hs2 import HSClustering\n",
    "from sklearn.cluster import DBSCAN"
   ]
  },
  {
   "cell_type": "code",
   "execution_count": null,
   "metadata": {
    "collapsed": true
   },
   "outputs": [],
   "source": [
    "# Load from file\n",
    "#C = HSClustering(['../data/ProcessedSpikes_mea1k.bin'], cutout_length=41)\n",
    "\n",
    "# Or if the spikes are already in memory\n",
    "# simply load from the Detection class\n",
    "C = HSClustering(H)"
   ]
  },
  {
   "cell_type": "code",
   "execution_count": null,
   "metadata": {
    "collapsed": true,
    "scrolled": true
   },
   "outputs": [],
   "source": [
    "C.ShapePCA(pca_ncomponents=2, pca_whiten=True)\n",
    "\n",
    "C.CombinedClustering(alpha=0.4, bandwidth=1.8, bin_seeding=True,\n",
    "                     min_bin_freq=100, n_jobs=-1)"
   ]
  },
  {
   "cell_type": "code",
   "execution_count": null,
   "metadata": {
    "collapsed": true
   },
   "outputs": [],
   "source": [
    "import matplotlib.pyplot as plt\n",
    "\n",
    "plt.figure(figsize=(10, 10))\n",
    "C.PlotAll(invert=True, s=1, show_labels=True)\n",
    "plt.title(\"MeanShift, bandwidth=.3, min_bin_freq=10\");\n",
    "plt.xlim([0,25])\n",
    "plt.ylim([0,25])"
   ]
  },
  {
   "cell_type": "code",
   "execution_count": null,
   "metadata": {
    "collapsed": true,
    "scrolled": true
   },
   "outputs": [],
   "source": [
    "C.CombinedClustering(eps=0.2, alpha=0.4, clustering_algorithm=DBSCAN,\n",
    "                    min_samples=5, n_jobs=-1)"
   ]
  },
  {
   "cell_type": "code",
   "execution_count": null,
   "metadata": {
    "collapsed": true,
    "scrolled": false
   },
   "outputs": [],
   "source": [
    "plt.figure(figsize=(12, 12))\n",
    "C.PlotAll(invert=True, s=1)\n",
    "plt.title(\"DBSCAN eps=0.2, min_samples=5\")\n",
    "# plt.xlim((1350,1600))"
   ]
  },
  {
   "cell_type": "code",
   "execution_count": null,
   "metadata": {
    "collapsed": true
   },
   "outputs": [],
   "source": [
    "units = (0, 1, 10)\n",
    "\n",
    "C.PlotShapes(units)"
   ]
  },
  {
   "cell_type": "code",
   "execution_count": null,
   "metadata": {
    "collapsed": true
   },
   "outputs": [],
   "source": [
    "C.SaveHDF5([\"results/f1.hdf5\"])"
   ]
  },
  {
   "cell_type": "code",
   "execution_count": null,
   "metadata": {
    "collapsed": true
   },
   "outputs": [],
   "source": []
  }
 ],
 "metadata": {
  "anaconda-cloud": {},
  "kernelspec": {
   "display_name": "Python [default]",
   "language": "python",
   "name": "python3"
  },
  "language_info": {
   "codemirror_mode": {
    "name": "ipython",
    "version": 3
   },
   "file_extension": ".py",
   "mimetype": "text/x-python",
   "name": "python",
   "nbconvert_exporter": "python",
   "pygments_lexer": "ipython3",
   "version": "3.5.5"
  }
 },
 "nbformat": 4,
 "nbformat_minor": 2
}
