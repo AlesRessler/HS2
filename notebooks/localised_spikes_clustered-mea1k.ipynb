{
 "cells": [
  {
   "cell_type": "markdown",
   "metadata": {},
   "source": [
    "# Download a MEA1k data set\n",
    "This recording from a mouse? retina was done by [whom](http://pothal.com/wp-content/uploads/2016/08/unknown-user.jpg) at ETHZ?"
   ]
  },
  {
   "cell_type": "code",
   "execution_count": null,
   "metadata": {
    "collapsed": true
   },
   "outputs": [],
   "source": [
    "import urllib.request\n",
    "file_url = 'https://datasync.ed.ac.uk/public.php/webdav'\n",
    "\n",
    "print('Downloading data file - this may take a while, patience...')\n",
    "password_mgr = urllib.request.HTTPPasswordMgrWithDefaultRealm()\n",
    "password_mgr.add_password(None, file_url, \"Bu5OJl7kfP3bBT4\", \"HS2\")\n",
    "handler = urllib.request.HTTPBasicAuthHandler(password_mgr)\n",
    "opener = urllib.request.build_opener(handler)\n",
    "opener.open(file_url)\n",
    "urllib.request.install_opener(opener)\n",
    "with urllib.request.urlopen(file_url) as response, open('mea1k_data.h5', 'wb') as out_file:\n",
    "    data = response.read()\n",
    "    out_file.write(data)\n",
    "print('...done')"
   ]
  },
  {
   "cell_type": "markdown",
   "metadata": {},
   "source": [
    "# Use of the `HSDetection` class"
   ]
  },
  {
   "cell_type": "code",
   "execution_count": null,
   "metadata": {
    "collapsed": false
   },
   "outputs": [],
   "source": [
    "from herdingspikes import HSDetection\n",
    "from herdingspikes.probe import Mea1k\n",
    "\n",
    "import matplotlib.pyplot as plt\n",
    "import numpy as np\n",
    "\n",
    "%matplotlib inline"
   ]
  },
  {
   "cell_type": "code",
   "execution_count": null,
   "metadata": {
    "collapsed": true,
    "scrolled": true
   },
   "outputs": [],
   "source": [
    "# raw data location\n",
    "data_file = 'mea1k_data.h5'\n",
    "\n",
    "# detection parameters\n",
    "to_localize = True\n",
    "cutout_start = 10\n",
    "cutout_end = 30\n",
    "threshold = 7\n",
    "file_name = 'ProcessedSpikes_mea1k'"
   ]
  },
  {
   "cell_type": "code",
   "execution_count": null,
   "metadata": {
    "collapsed": true
   },
   "outputs": [],
   "source": [
    "Probe = Mea1k(data_file)\n",
    "H = HSDetection(Probe, to_localize, cutout_start, cutout_end, threshold,\n",
    "                maa=0, maxsl=12, minsl=3, ahpthr=0, out_file_name=file_name)"
   ]
  },
  {
   "cell_type": "code",
   "execution_count": null,
   "metadata": {
    "collapsed": false
   },
   "outputs": [],
   "source": [
    "Probe.show(figwidth=10)"
   ]
  },
  {
   "cell_type": "code",
   "execution_count": null,
   "metadata": {
    "collapsed": false
   },
   "outputs": [],
   "source": [
    "# plot some raw traces\n",
    "\n",
    "t1,t2 = 0,5000\n",
    "data = Probe.Read(t1,t2).reshape(t2-t1,Probe.num_channels)\n",
    "plt.figure(figsize=(16,4))\n",
    "ch = 67\n",
    "for ch in range(60,68):\n",
    "    plt.plot(data[4000:4600,ch])"
   ]
  },
  {
   "cell_type": "code",
   "execution_count": null,
   "metadata": {
    "collapsed": false
   },
   "outputs": [],
   "source": [
    "H.DetectFromRaw()"
   ]
  },
  {
   "cell_type": "code",
   "execution_count": null,
   "metadata": {
    "collapsed": false
   },
   "outputs": [],
   "source": [
    "H.LoadDetected()"
   ]
  },
  {
   "cell_type": "code",
   "execution_count": null,
   "metadata": {
    "collapsed": false
   },
   "outputs": [],
   "source": [
    "plt.figure(figsize=(10, 10))\n",
    "H.PlotTracesChannels(0)"
   ]
  },
  {
   "cell_type": "code",
   "execution_count": null,
   "metadata": {
    "collapsed": false,
    "scrolled": false
   },
   "outputs": [],
   "source": [
    "import matplotlib.pyplot as plt\n",
    "\n",
    "plt.figure(figsize=(5, 5))\n",
    "H.PlotAll(invert=True, s=2, alpha=1)\n",
    "plt.axis('equal');"
   ]
  },
  {
   "cell_type": "markdown",
   "metadata": {},
   "source": [
    "# Use of the `HSClustering` class"
   ]
  },
  {
   "cell_type": "code",
   "execution_count": null,
   "metadata": {
    "collapsed": true
   },
   "outputs": [],
   "source": [
    "from herdingspikes import HSClustering\n",
    "from sklearn.cluster import DBSCAN"
   ]
  },
  {
   "cell_type": "code",
   "execution_count": null,
   "metadata": {
    "collapsed": true
   },
   "outputs": [],
   "source": [
    "# Load from file\n",
    "#C = HSClustering(['../data/ProcessedSpikes_mea1k.bin'], cutout_length=41)\n",
    "\n",
    "# Or if the spikes are already in memory\n",
    "# simply load from the Detection class\n",
    "C = HSClustering(H)"
   ]
  },
  {
   "cell_type": "code",
   "execution_count": null,
   "metadata": {
    "collapsed": false,
    "scrolled": true
   },
   "outputs": [],
   "source": [
    "C.ShapePCA(pca_ncomponents=2, pca_whiten=True)\n",
    "C.CombinedClustering(alpha=5, bandwidth=5, bin_seeding=False, n_jobs=-1)"
   ]
  },
  {
   "cell_type": "code",
   "execution_count": null,
   "metadata": {
    "collapsed": false
   },
   "outputs": [],
   "source": [
    "plt.figure(figsize=(8, 8))\n",
    "ax = plt.subplot(111)\n",
    "C.PlotAll(invert=True, s=1, show_labels=True)\n",
    "plt.title(\"MEan Shift\")\n"
   ]
  },
  {
   "cell_type": "code",
   "execution_count": null,
   "metadata": {
    "collapsed": false
   },
   "outputs": [],
   "source": [
    "units = range(11)\n",
    "C.PlotShapes(units)"
   ]
  },
  {
   "cell_type": "code",
   "execution_count": null,
   "metadata": {
    "collapsed": false,
    "scrolled": true
   },
   "outputs": [],
   "source": [
    "C.CombinedClustering(eps=1., alpha=1.5, clustering_algorithm=DBSCAN,\n",
    "                    min_samples=5, n_jobs=-1)"
   ]
  },
  {
   "cell_type": "code",
   "execution_count": null,
   "metadata": {
    "collapsed": false,
    "scrolled": false
   },
   "outputs": [],
   "source": [
    "plt.figure(figsize=(8, 8))\n",
    "C.PlotAll(invert=True, s=9,alpha=0.5)\n",
    "plt.title(\"DBSCAN\")\n"
   ]
  },
  {
   "cell_type": "code",
   "execution_count": null,
   "metadata": {
    "collapsed": false
   },
   "outputs": [],
   "source": [
    "units = range(6)\n",
    "C.PlotShapes(units)"
   ]
  },
  {
   "cell_type": "code",
   "execution_count": null,
   "metadata": {
    "collapsed": true
   },
   "outputs": [],
   "source": [
    "C.SaveHDF5([\"mea1k_sorted.hdf5\"])"
   ]
  },
  {
   "cell_type": "code",
   "execution_count": null,
   "metadata": {
    "collapsed": true
   },
   "outputs": [],
   "source": []
  }
 ],
 "metadata": {
  "anaconda-cloud": {},
  "kernelspec": {
   "display_name": "Python [default]",
   "language": "python",
   "name": "python3"
  },
  "language_info": {
   "codemirror_mode": {
    "name": "ipython",
    "version": 3
   },
   "file_extension": ".py",
   "mimetype": "text/x-python",
   "name": "python",
   "nbconvert_exporter": "python",
   "pygments_lexer": "ipython3",
   "version": "3.5.5"
  }
 },
 "nbformat": 4,
 "nbformat_minor": 2
}
