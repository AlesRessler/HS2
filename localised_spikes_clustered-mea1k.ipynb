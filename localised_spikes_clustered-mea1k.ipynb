{
 "cells": [
  {
   "cell_type": "code",
   "execution_count": null,
   "metadata": {},
   "outputs": [],
   "source": [
    "%load_ext autoreload\n",
    "%autoreload 2\n",
    "\n",
    "import matplotlib.pyplot as plt\n",
    "from hs2 import herdingspikes\n",
    "from probe import Mea1k\n",
    "from sklearn.cluster import DBSCAN\n",
    "\n",
    "%matplotlib inline"
   ]
  },
  {
   "cell_type": "code",
   "execution_count": null,
   "metadata": {
    "scrolled": true
   },
   "outputs": [],
   "source": [
    "data_path = 'data/Trace_20171218_16_26_42.raw.h5'\n",
    "\n",
    "to_localize = True\n",
    "cutout_start = 10\n",
    "cutout_end = 30\n",
    "threshold = 7\n",
    "out_file_name = 'ProcessedSpikes_mea1k'"
   ]
  },
  {
   "cell_type": "code",
   "execution_count": null,
   "metadata": {},
   "outputs": [],
   "source": [
    "Probe = Mea1k(data_path, fps=20000, number_of_frames=4450600)\n",
    "H = herdingspikes(Probe)"
   ]
  },
  {
   "cell_type": "code",
   "execution_count": null,
   "metadata": {},
   "outputs": [],
   "source": [
    "Probe.show(figwidth=20)"
   ]
  },
  {
   "cell_type": "code",
   "execution_count": null,
   "metadata": {},
   "outputs": [],
   "source": [
    "# H.DetectFromRaw(to_localize, cutout_start, cutout_end, threshold, maa=0, maxsl=12, minsl=3, ahpthr=0, out_file_name=out_file_name)\n",
    "# OR\n",
    "H.LoadDetected(out_file_name, cutout_start + cutout_end + 1)"
   ]
  },
  {
   "cell_type": "code",
   "execution_count": null,
   "metadata": {},
   "outputs": [],
   "source": [
    "#plt.figure(figsize=(20, 10))\n",
    "H.PlotTracesChannels(52)"
   ]
  },
  {
   "cell_type": "code",
   "execution_count": null,
   "metadata": {},
   "outputs": [],
   "source": [
    "plt.figure(figsize=(10, 10))\n",
    "H.PlotAll(invert=True, s=1, alpha=0.05)\n",
    "plt.axis('equal')"
   ]
  },
  {
   "cell_type": "code",
   "execution_count": null,
   "metadata": {
    "scrolled": true
   },
   "outputs": [],
   "source": [
    "%%time\n",
    "# H.CombinedClustering(alpha=40,\n",
    "#                     bandwidth = 20, bin_seeding=True, min_bin_freq=10,\n",
    "#                     pca_ncomponents=2, pca_whiten=True,\n",
    "#                     n_jobs=-1)\n",
    "H.CombinedClustering(alpha=0.4,\n",
    "                    bandwidth=None, bin_seeding=True, min_bin_freq=10,\n",
    "                    pca_ncomponents=2, pca_whiten=True,\n",
    "                    n_jobs=-1)"
   ]
  },
  {
   "cell_type": "code",
   "execution_count": null,
   "metadata": {},
   "outputs": [],
   "source": [
    "H.clusters.Color"
   ]
  },
  {
   "cell_type": "code",
   "execution_count": null,
   "metadata": {},
   "outputs": [],
   "source": [
    "plt.figure(figsize=(10, 10))\n",
    "H.PlotAll(invert=True, s=1)\n",
    "# plt.xlim((1350,1600))\n",
    "plt.title(\"MeanShift, bandwidth=.3, min_bin_freq=10\")"
   ]
  },
  {
   "cell_type": "code",
   "execution_count": null,
   "metadata": {
    "scrolled": true
   },
   "outputs": [],
   "source": [
    "H.CombinedClustering(eps=0.2, alpha=0.4, clustering_algorithm=DBSCAN,\n",
    "                    min_samples=5, pca_ncomponents=2, pca_whiten=True,\n",
    "                    n_jobs=-1)"
   ]
  },
  {
   "cell_type": "code",
   "execution_count": null,
   "metadata": {
    "scrolled": false
   },
   "outputs": [],
   "source": [
    "plt.figure(figsize=(12, 12))\n",
    "H.PlotAll(invert=True, s=1)\n",
    "plt.title(\"DBSCAN eps=8, min_samples=5\")\n",
    "# plt.xlim((1350,1600))\n"
   ]
  },
  {
   "cell_type": "code",
   "execution_count": null,
   "metadata": {},
   "outputs": [],
   "source": [
    "units = (0,1,10)\n",
    "\n",
    "H.PlotShapes(units)"
   ]
  },
  {
   "cell_type": "code",
   "execution_count": null,
   "metadata": {},
   "outputs": [],
   "source": []
  }
 ],
 "metadata": {
  "kernelspec": {
   "display_name": "Python 3",
   "language": "python",
   "name": "python3"
  },
  "language_info": {
   "codemirror_mode": {
    "name": "ipython",
    "version": 3
   },
   "file_extension": ".py",
   "mimetype": "text/x-python",
   "name": "python",
   "nbconvert_exporter": "python",
   "pygments_lexer": "ipython3",
   "version": "3.6.3"
  }
 },
 "nbformat": 4,
 "nbformat_minor": 2
}
