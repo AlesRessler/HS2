{
 "cells": [
  {
   "cell_type": "code",
   "execution_count": 1,
   "metadata": {
    "collapsed": true
   },
   "outputs": [],
   "source": [
    "import h5py\n",
    "import numpy as np\n",
    "import mmap"
   ]
  },
  {
   "cell_type": "code",
   "execution_count": 2,
   "metadata": {
    "collapsed": true
   },
   "outputs": [],
   "source": [
    "data_path = '/data/MEA/neuropixel/'\n",
    "fname = 'ProcessedSpikes'\n",
    "ofname = 'ProcessedSpikes.hdf5'"
   ]
  },
  {
   "cell_type": "code",
   "execution_count": 3,
   "metadata": {},
   "outputs": [],
   "source": [
    "# open/count lines in results file\n",
    "def mapcount(buf):\n",
    "    lines = 0\n",
    "    readline = buf.readline\n",
    "    while readline():\n",
    "        lines += 1\n",
    "    return lines\n",
    "\n",
    "f = open(data_path+fname, 'r+')\n",
    "procspikes = mmap.mmap(f.fileno(), 0)\n",
    "nspikes = mapcount(procspikes)\n",
    "procspikes.seek(0)\n",
    "l1 = np.fromstring(procspikes.readline(), sep=' ').astype(float)\n",
    "cutlen = len(l1)-5\n",
    "procspikes.seek(0)"
   ]
  },
  {
   "cell_type": "code",
   "execution_count": 4,
   "metadata": {},
   "outputs": [
    {
     "name": "stdout",
     "output_type": "stream",
     "text": [
      "43006280 spikes in file, cutout lengh 61 frames\n"
     ]
    }
   ],
   "source": [
    "print(str(nspikes)+' spikes in file, cutout lengh '+str(cutlen)+' frames')"
   ]
  },
  {
   "cell_type": "code",
   "execution_count": 5,
   "metadata": {
    "collapsed": true
   },
   "outputs": [],
   "source": [
    "#    ch = int(sp[i,0])\n",
    "#    t = int(sp[i,1])\n",
    "#    a = sp[i,2]\n",
    "#    x = sp[i,3]\n",
    "#    y = sp[i,4]"
   ]
  },
  {
   "cell_type": "code",
   "execution_count": 6,
   "metadata": {},
   "outputs": [],
   "source": [
    "\"\"\"Saves data a hdf5 file.\n",
    "Offers compression of the shapes, 'lzf'\n",
    "appears a good trade-off between speed and performance.'\"\"\"\n",
    "\n",
    "compression = 'lzf'\n",
    "\n",
    "g = h5py.File(data_path+ofname, 'w')\n",
    "\n",
    "shapes = g.create_dataset(\"Shapes\", shape=(nspikes, cutlen), dtype=int, compression=compression)\n",
    "sampling = g.create_dataset(\"Sampling\", data=[30000], dtype=int)\n"
   ]
  },
  {
   "cell_type": "code",
   "execution_count": 7,
   "metadata": {},
   "outputs": [
    {
     "name": "stdout",
     "output_type": "stream",
     "text": [
      "CPU times: user 13min 14s, sys: 7.28 s, total: 13min 21s\n",
      "Wall time: 13min 27s\n"
     ]
    }
   ],
   "source": [
    "%%time\n",
    "\n",
    "procspikes.seek(0)\n",
    "\n",
    "batch_size = 500000\n",
    "\n",
    "data_tmp = np.empty((nspikes, 2))\n",
    "times_tmp = np.empty(nspikes)\n",
    "amp_tmp = np.empty(nspikes)\n",
    "ch_tmp = np.empty(nspikes)\n",
    "shapes_tmp = np.empty((batch_size, cutlen))\n",
    "\n",
    "pos = 0\n",
    "while 1:\n",
    "    if pos%batch_size==0:\n",
    "        print(str(np.round(100./nspikes*pos,2))+'%',end='\\r')\n",
    "    l = procspikes.readline()\n",
    "    if not l : break\n",
    "    tl = np.fromstring(l, sep=' ').astype(float)\n",
    "#     if tl.shape[0] is not cutlen+5 : break # use this if a \n",
    "    data_tmp[pos, :] = np.array([tl[3], tl[4]]).astype(int)\n",
    "    times_tmp[pos] = int(tl[1])\n",
    "    amp_tmp[pos] = int(tl[2])\n",
    "    ch_tmp[pos] = int(tl[0])\n",
    "    shapes_tmp[pos%batch_size, :] = tl[5:].astype(int)  \n",
    "    pos += 1\n",
    "    if pos%batch_size == 0:\n",
    "        shapes[(pos//batch_size-1)*batch_size:(pos//batch_size)*batch_size] = shapes_tmp\n",
    "\n",
    "if pos%batch_size != 0:\n",
    "    shapes[(pos//batch_size-1)*batch_size:(pos//batch_size-1)*batch_size+pos%batch_size] = shapes_tmp[:pos%batch_size]\n"
   ]
  },
  {
   "cell_type": "code",
   "execution_count": 8,
   "metadata": {},
   "outputs": [
    {
     "name": "stdout",
     "output_type": "stream",
     "text": [
      "CPU times: user 1.54 s, sys: 2.17 s, total: 3.72 s\n",
      "Wall time: 13.4 s\n"
     ]
    }
   ],
   "source": [
    "%%time\n",
    "ch = g.create_dataset(\"Channels\", data=ch_tmp, dtype=int)\n",
    "amp = g.create_dataset(\"Amplitudes\", data=amp_tmp, dtype=int)\n",
    "data = g.create_dataset(\"Locations\", data=data_tmp, dtype=float)\n",
    "times = g.create_dataset(\"Times\", data=times_tmp, dtype=int)\n",
    "g.close()"
   ]
  },
  {
   "cell_type": "code",
   "execution_count": null,
   "metadata": {
    "collapsed": true
   },
   "outputs": [],
   "source": []
  }
 ],
 "metadata": {
  "kernelspec": {
   "display_name": "Python 3",
   "language": "python",
   "name": "python3"
  },
  "language_info": {
   "codemirror_mode": {
    "name": "ipython",
    "version": 3
   },
   "file_extension": ".py",
   "mimetype": "text/x-python",
   "name": "python",
   "nbconvert_exporter": "python",
   "pygments_lexer": "ipython3",
   "version": "3.5.3"
  }
 },
 "nbformat": 4,
 "nbformat_minor": 2
}
