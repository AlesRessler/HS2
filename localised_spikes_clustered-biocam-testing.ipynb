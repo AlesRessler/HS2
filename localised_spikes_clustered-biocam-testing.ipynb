{
 "cells": [
  {
   "cell_type": "code",
   "execution_count": null,
   "metadata": {},
   "outputs": [],
   "source": [
    "%load_ext autoreload\n",
    "%autoreload 2\n",
    "\n",
    "import matplotlib.pyplot as plt\n",
    "from hs2 import herdingspikes\n",
    "from probe import NeuralProbe, NeuroPixel, BioCam\n",
    "import numpy as np\n",
    "\n",
    "%matplotlib inline"
   ]
  },
  {
   "cell_type": "code",
   "execution_count": null,
   "metadata": {
    "scrolled": true
   },
   "outputs": [],
   "source": [
    "data_path = '/disk/scratch/mhennig/P29_16_07_14/raw/P29_16_05_14_retina02_left_stim3_fullarray_fullfieldHDF5.brw'\n",
    "\n",
    "Probe = BioCam(data_path)\n",
    "H = herdingspikes(Probe)"
   ]
  },
  {
   "cell_type": "code",
   "execution_count": null,
   "metadata": {},
   "outputs": [],
   "source": [
    "# Probe.show(figwidth=12, show_neighbors=[-20])"
   ]
  },
  {
   "cell_type": "markdown",
   "metadata": {},
   "source": [
    "# Detect and localise spikes"
   ]
  },
  {
   "cell_type": "code",
   "execution_count": null,
   "metadata": {
    "scrolled": true
   },
   "outputs": [],
   "source": [
    "# detectData(data, neighbours, spikefilename, shapefilename, channels, sfd, thres, maa = None, maxsl = None, minsl = None, ahpthr = None, tpre = 1, tpost = 2)\n",
    "# MinAvgAmp minimal avg. amplitude of peak (in units of Qd)\n",
    "# MaxSl dead time in frames after peak, used for further testing\n",
    "# MinSl length considered for determining avg. spike amplitude\n",
    "# AHPthr signal should go below that threshold within MaxSl-Slmin frames\n",
    "\n",
    "\n",
    "to_localize = True\n",
    "cutout_start = 6#10\n",
    "cutout_end = 30\n",
    "threshold = 16"
   ]
  },
  {
   "cell_type": "code",
   "execution_count": null,
   "metadata": {},
   "outputs": [],
   "source": [
    "H.DetectFromRaw?"
   ]
  },
  {
   "cell_type": "code",
   "execution_count": null,
   "metadata": {},
   "outputs": [],
   "source": [
    "H.DetectFromRaw(to_localize, cutout_start, cutout_end, threshold,\n",
    "                maa=0, maxsl=12, minsl=3, ahpthr=0., out_file_name=\"ProcessedSpikes_biocam\")\n",
    "\n",
    "# # OR\n",
    "\n",
    "#H.LoadDetected(\"ProcessedSpikes_biocam.bin\")\n",
    "\n",
    "print(str(H.spikes.shape[0])+' spikes detected')"
   ]
  },
  {
   "cell_type": "code",
   "execution_count": null,
   "metadata": {},
   "outputs": [],
   "source": [
    "plt.figure(figsize=(10, 5))\n",
    "H.PlotTracesChannels(1022, cutout_start=cutout_start)"
   ]
  },
  {
   "cell_type": "code",
   "execution_count": null,
   "metadata": {},
   "outputs": [],
   "source": [
    "plt.figure(figsize=(10, 10))\n",
    "H.PlotAll(invert=True, s=1, alpha=0.05)\n",
    "plt.xlim([0, 64])\n",
    "plt.ylim([0, 64])"
   ]
  },
  {
   "cell_type": "markdown",
   "metadata": {},
   "source": [
    "# Cluster with DBScan"
   ]
  },
  {
   "cell_type": "code",
   "execution_count": null,
   "metadata": {},
   "outputs": [],
   "source": [
    "%%time\n",
    "from sklearn.cluster import DBSCAN\n",
    "\n",
    "eps = 0.1#15#0.12\n",
    "alpha = 0.25\n",
    "min_samples = 5\n",
    "\n",
    "H.CombinedClustering(eps=eps, alpha=alpha, clustering_algorithm=DBSCAN,\n",
    "                    min_samples=min_samples, pca_ncomponents=2, pca_whiten=True,\n",
    "                    n_jobs=-1)"
   ]
  },
  {
   "cell_type": "code",
   "execution_count": null,
   "metadata": {
    "scrolled": false
   },
   "outputs": [],
   "source": [
    "plt.figure(figsize=(10, 10))\n",
    "H.PlotAll(invert=True, s=1, alpha=0.05)\n",
    "plt.xlim([0, 64])\n",
    "plt.ylim([0, 64])"
   ]
  },
  {
   "cell_type": "code",
   "execution_count": null,
   "metadata": {},
   "outputs": [],
   "source": [
    "units = (18,0,1,10,100)\n",
    "\n",
    "H.PlotShapes(units)"
   ]
  },
  {
   "cell_type": "markdown",
   "metadata": {},
   "source": [
    "# plot all units and unclustered spikes in a small region "
   ]
  },
  {
   "cell_type": "code",
   "execution_count": null,
   "metadata": {},
   "outputs": [],
   "source": [
    "plt.figure(figsize=(10,10))\n",
    "ax = plt.axes(facecolor='k')\n",
    "\n",
    "largest = np.argsort(H.clusters['Size']).values[::-1]\n",
    "cl = largest[2]\n",
    "print(cl)\n",
    "\n",
    "cx, cy = H.clusters['ctr_x'][cl],H.clusters['ctr_y'][cl]\n",
    "\n",
    "# slice out the unclustered spikes\n",
    "# is there a better way?\n",
    "inds = np.where(H.spikes.cl==-1)[0]\n",
    "x,y = H.spikes.x[inds].values, H.spikes.y[inds].values\n",
    "dists = np.sqrt((cx-x)**2+(cy-y)**2)\n",
    "spInds = np.where(dists<1)[0]\n",
    "plt.scatter(x[spInds], y[spInds], c='r', s=3)\n",
    "\n",
    "\n",
    "dists = np.sqrt((cx-H.clusters['ctr_x'])**2+(cy-H.clusters['ctr_y'])**2)\n",
    "clInds = np.where(dists<2)[0]\n",
    "for cl_t in clInds:\n",
    "    cx, cy = H.clusters['ctr_x'][cl_t],H.clusters['ctr_y'][cl_t]\n",
    "    inds = np.where(H.spikes.cl==cl_t)[0]\n",
    "    x,y = H.spikes.x[inds],H.spikes.y[inds]\n",
    "    plt.scatter(x,y,c=plt.cm.hsv(H.clusters['Color'][cl_t]), s=3,alpha=0.2)\n",
    "    plt.text(cx-0.1,cy,str(cl_t), fontsize=16, color='w')\n",
    "plt.axis('equal');\n"
   ]
  },
  {
   "cell_type": "code",
   "execution_count": null,
   "metadata": {},
   "outputs": [],
   "source": [
    "plt.figure(figsize=(14,14))\n",
    "# ax = plt.axes(facecolor='k')\n",
    "print(cl)\n",
    "\n",
    "cx, cy = H.clusters['ctr_x'][cl],H.clusters['ctr_y'][cl]\n",
    "\n",
    "plt.subplot(4,4,1)\n",
    "inds = np.where(H.spikes.cl==-1)[0]\n",
    "x,y = H.spikes.x[inds].values, H.spikes.y[inds].values\n",
    "dists = np.sqrt((cx-x)**2+(cy-y)**2)\n",
    "spInds = np.where(dists<2)[0][:20]\n",
    "for i in inds[spInds]:\n",
    "    plt.plot(H.spikes.Shape[i],'r')\n",
    "plt.ylim((-300,100))    \n",
    "plt.title('unclustered')\n",
    "\n",
    "dists = np.sqrt((cx-H.clusters['ctr_x'])**2+(cy-H.clusters['ctr_y'])**2)\n",
    "clInds = np.where(dists<2)[0]\n",
    "for i,cl_t in enumerate(clInds[:15]):\n",
    "    plt.subplot(4,4,i+2)\n",
    "    spInds = np.where(H.spikes.cl==cl_t)[0]\n",
    "    for i in spInds[:20]:\n",
    "        plt.plot(H.spikes.Shape[i],'k')\n",
    "    plt.ylim((-300,100))    \n",
    "    plt.title('cluster '+str(cl_t))\n",
    "    \n",
    "\n"
   ]
  },
  {
   "cell_type": "code",
   "execution_count": null,
   "metadata": {},
   "outputs": [],
   "source": [
    "# unclustered events\n",
    "plt.subplot(121)\n",
    "inds = np.where(H.spikes.cl==-1)[0]\n",
    "for i in range(0,200,2):\n",
    "    plt.plot(H.spikes['Shape'][inds[i]],'r')\n",
    "plt.plot(np.mean(H.spikes['Shape'][inds]),'b',lw=2)\n",
    "plt.title('unclustered')\n",
    "plt.ylim((-300,100))    \n",
    "\n",
    "plt.subplot(122)\n",
    "inds = np.where(H.spikes.cl>-1)[0]\n",
    "for i in range(20,200,2):\n",
    "    plt.plot(H.spikes['Shape'][inds[i]],'k')\n",
    "plt.plot(np.mean(H.spikes['Shape'][inds]),'b',lw=2)\n",
    "plt.title('clustered')\n",
    "plt.ylim((-300,100))"
   ]
  },
  {
   "cell_type": "markdown",
   "metadata": {},
   "source": [
    "# Mean Shift Clustering"
   ]
  },
  {
   "cell_type": "code",
   "execution_count": null,
   "metadata": {
    "scrolled": true
   },
   "outputs": [],
   "source": [
    "%%time\n",
    "# H.CombinedClustering(alpha=40,\n",
    "#                     bandwidth = 20, bin_seeding=True, min_bin_freq=10,\n",
    "#                     pca_ncomponents=2, pca_whiten=True,\n",
    "#                     n_jobs=-1)\n",
    "H.CombinedClustering(alpha=0.4,\n",
    "                    bandwidth = 0.3, bin_seeding=True, min_bin_freq=10,\n",
    "                    pca_ncomponents=2, pca_whiten=True,\n",
    "                    n_jobs=-1)\n",
    "\n",
    "plt.figure(figsize=(10, 10))\n",
    "H.PlotAll(invert=True, s=1)\n",
    "# plt.xlim((1350,1600))\n",
    "plt.title(\"MeanShift, bandwidth=.3, min_bin_freq=10\")"
   ]
  },
  {
   "cell_type": "code",
   "execution_count": null,
   "metadata": {},
   "outputs": [],
   "source": []
  }
 ],
 "metadata": {
  "kernelspec": {
   "display_name": "Python 3",
   "language": "python",
   "name": "python3"
  },
  "language_info": {
   "codemirror_mode": {
    "name": "ipython",
    "version": 3
   },
   "file_extension": ".py",
   "mimetype": "text/x-python",
   "name": "python",
   "nbconvert_exporter": "python",
   "pygments_lexer": "ipython3",
   "version": "3.6.3"
  }
 },
 "nbformat": 4,
 "nbformat_minor": 2
}
